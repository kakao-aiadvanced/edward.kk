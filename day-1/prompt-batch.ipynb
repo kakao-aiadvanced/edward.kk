{
 "cells": [
  {
   "cell_type": "code",
   "execution_count": 1,
   "metadata": {},
   "outputs": [
    {
     "name": "stdout",
     "output_type": "stream",
     "text": [
      "Requirement already satisfied: openai==1.3.7 in /Users/edward.kk/.pyenv/versions/3.11.9/lib/python3.11/site-packages (1.3.7)\n",
      "Requirement already satisfied: python-dotenv in /Users/edward.kk/.pyenv/versions/3.11.9/lib/python3.11/site-packages (1.0.1)\n",
      "Requirement already satisfied: promptbench in /Users/edward.kk/.pyenv/versions/3.11.9/lib/python3.11/site-packages (0.0.4)\n",
      "Requirement already satisfied: anyio<4,>=3.5.0 in /Users/edward.kk/.pyenv/versions/3.11.9/lib/python3.11/site-packages (from openai==1.3.7) (3.7.1)\n",
      "Requirement already satisfied: distro<2,>=1.7.0 in /Users/edward.kk/.pyenv/versions/3.11.9/lib/python3.11/site-packages (from openai==1.3.7) (1.9.0)\n",
      "Requirement already satisfied: httpx<1,>=0.23.0 in /Users/edward.kk/.pyenv/versions/3.11.9/lib/python3.11/site-packages (from openai==1.3.7) (0.27.2)\n",
      "Requirement already satisfied: pydantic<3,>=1.9.0 in /Users/edward.kk/.pyenv/versions/3.11.9/lib/python3.11/site-packages (from openai==1.3.7) (2.8.2)\n",
      "Requirement already satisfied: sniffio in /Users/edward.kk/.pyenv/versions/3.11.9/lib/python3.11/site-packages (from openai==1.3.7) (1.3.1)\n",
      "Requirement already satisfied: tqdm>4 in /Users/edward.kk/.pyenv/versions/3.11.9/lib/python3.11/site-packages (from openai==1.3.7) (4.66.1)\n",
      "Requirement already satisfied: typing-extensions<5,>=4.5 in /Users/edward.kk/.pyenv/versions/3.11.9/lib/python3.11/site-packages (from openai==1.3.7) (4.12.2)\n",
      "Requirement already satisfied: autocorrect==2.6.1 in /Users/edward.kk/.pyenv/versions/3.11.9/lib/python3.11/site-packages (from promptbench) (2.6.1)\n",
      "Requirement already satisfied: accelerate==0.25.0 in /Users/edward.kk/.pyenv/versions/3.11.9/lib/python3.11/site-packages (from promptbench) (0.25.0)\n",
      "Requirement already satisfied: datasets>=2.15.0 in /Users/edward.kk/.pyenv/versions/3.11.9/lib/python3.11/site-packages (from promptbench) (2.19.2)\n",
      "Requirement already satisfied: nltk==3.8.1 in /Users/edward.kk/.pyenv/versions/3.11.9/lib/python3.11/site-packages (from promptbench) (3.8.1)\n",
      "Requirement already satisfied: sentencepiece==0.1.99 in /Users/edward.kk/.pyenv/versions/3.11.9/lib/python3.11/site-packages (from promptbench) (0.1.99)\n",
      "Requirement already satisfied: tokenizers==0.15.0 in /Users/edward.kk/.pyenv/versions/3.11.9/lib/python3.11/site-packages (from promptbench) (0.15.0)\n",
      "Requirement already satisfied: torch>=2.1.1 in /Users/edward.kk/.pyenv/versions/3.11.9/lib/python3.11/site-packages (from promptbench) (2.2.0)\n",
      "Requirement already satisfied: transformers==4.38.0 in /Users/edward.kk/.pyenv/versions/3.11.9/lib/python3.11/site-packages (from promptbench) (4.38.0)\n",
      "Requirement already satisfied: Pillow==10.3.0 in /Users/edward.kk/.pyenv/versions/3.11.9/lib/python3.11/site-packages (from promptbench) (10.3.0)\n",
      "Requirement already satisfied: google-generativeai==0.4.0 in /Users/edward.kk/.pyenv/versions/3.11.9/lib/python3.11/site-packages (from promptbench) (0.4.0)\n",
      "Requirement already satisfied: dashscope==1.14.1 in /Users/edward.kk/.pyenv/versions/3.11.9/lib/python3.11/site-packages (from promptbench) (1.14.1)\n",
      "Requirement already satisfied: einops==0.7.0 in /Users/edward.kk/.pyenv/versions/3.11.9/lib/python3.11/site-packages (from promptbench) (0.7.0)\n",
      "Requirement already satisfied: transformers-stream-generator==0.0.5 in /Users/edward.kk/.pyenv/versions/3.11.9/lib/python3.11/site-packages (from promptbench) (0.0.5)\n",
      "Requirement already satisfied: torchvision==0.17.0 in /Users/edward.kk/.pyenv/versions/3.11.9/lib/python3.11/site-packages (from promptbench) (0.17.0)\n",
      "Requirement already satisfied: matplotlib==3.8.3 in /Users/edward.kk/.pyenv/versions/3.11.9/lib/python3.11/site-packages (from promptbench) (3.8.3)\n",
      "Requirement already satisfied: tiktoken==0.6.0 in /Users/edward.kk/.pyenv/versions/3.11.9/lib/python3.11/site-packages (from promptbench) (0.6.0)\n",
      "Requirement already satisfied: numpy>=1.17 in /Users/edward.kk/.pyenv/versions/3.11.9/lib/python3.11/site-packages (from accelerate==0.25.0->promptbench) (1.26.4)\n",
      "Requirement already satisfied: packaging>=20.0 in /Users/edward.kk/.pyenv/versions/3.11.9/lib/python3.11/site-packages (from accelerate==0.25.0->promptbench) (24.1)\n",
      "Requirement already satisfied: psutil in /Users/edward.kk/.pyenv/versions/3.11.9/lib/python3.11/site-packages (from accelerate==0.25.0->promptbench) (6.0.0)\n",
      "Requirement already satisfied: pyyaml in /Users/edward.kk/.pyenv/versions/3.11.9/lib/python3.11/site-packages (from accelerate==0.25.0->promptbench) (6.0.1)\n",
      "Requirement already satisfied: huggingface-hub in /Users/edward.kk/.pyenv/versions/3.11.9/lib/python3.11/site-packages (from accelerate==0.25.0->promptbench) (0.24.3)\n",
      "Requirement already satisfied: safetensors>=0.3.1 in /Users/edward.kk/.pyenv/versions/3.11.9/lib/python3.11/site-packages (from accelerate==0.25.0->promptbench) (0.4.3)\n",
      "Requirement already satisfied: aiohttp in /Users/edward.kk/.pyenv/versions/3.11.9/lib/python3.11/site-packages (from dashscope==1.14.1->promptbench) (3.10.0)\n",
      "Requirement already satisfied: requests in /Users/edward.kk/.pyenv/versions/3.11.9/lib/python3.11/site-packages (from dashscope==1.14.1->promptbench) (2.32.3)\n",
      "Requirement already satisfied: google-ai-generativelanguage==0.4.0 in /Users/edward.kk/.pyenv/versions/3.11.9/lib/python3.11/site-packages (from google-generativeai==0.4.0->promptbench) (0.4.0)\n",
      "Requirement already satisfied: google-auth>=2.15.0 in /Users/edward.kk/.pyenv/versions/3.11.9/lib/python3.11/site-packages (from google-generativeai==0.4.0->promptbench) (2.34.0)\n",
      "Requirement already satisfied: google-api-core in /Users/edward.kk/.pyenv/versions/3.11.9/lib/python3.11/site-packages (from google-generativeai==0.4.0->promptbench) (2.19.2)\n",
      "Requirement already satisfied: protobuf in /Users/edward.kk/.pyenv/versions/3.11.9/lib/python3.11/site-packages (from google-generativeai==0.4.0->promptbench) (4.25.4)\n",
      "Requirement already satisfied: contourpy>=1.0.1 in /Users/edward.kk/.pyenv/versions/3.11.9/lib/python3.11/site-packages (from matplotlib==3.8.3->promptbench) (1.3.0)\n",
      "Requirement already satisfied: cycler>=0.10 in /Users/edward.kk/.pyenv/versions/3.11.9/lib/python3.11/site-packages (from matplotlib==3.8.3->promptbench) (0.12.1)\n",
      "Requirement already satisfied: fonttools>=4.22.0 in /Users/edward.kk/.pyenv/versions/3.11.9/lib/python3.11/site-packages (from matplotlib==3.8.3->promptbench) (4.53.1)\n",
      "Requirement already satisfied: kiwisolver>=1.3.1 in /Users/edward.kk/.pyenv/versions/3.11.9/lib/python3.11/site-packages (from matplotlib==3.8.3->promptbench) (1.4.5)\n",
      "Requirement already satisfied: pyparsing>=2.3.1 in /Users/edward.kk/.pyenv/versions/3.11.9/lib/python3.11/site-packages (from matplotlib==3.8.3->promptbench) (3.1.4)\n",
      "Requirement already satisfied: python-dateutil>=2.7 in /Users/edward.kk/.pyenv/versions/3.11.9/lib/python3.11/site-packages (from matplotlib==3.8.3->promptbench) (2.9.0.post0)\n",
      "Requirement already satisfied: click in /Users/edward.kk/.pyenv/versions/3.11.9/lib/python3.11/site-packages (from nltk==3.8.1->promptbench) (8.1.7)\n",
      "Requirement already satisfied: joblib in /Users/edward.kk/.pyenv/versions/3.11.9/lib/python3.11/site-packages (from nltk==3.8.1->promptbench) (1.4.2)\n",
      "Requirement already satisfied: regex>=2021.8.3 in /Users/edward.kk/.pyenv/versions/3.11.9/lib/python3.11/site-packages (from nltk==3.8.1->promptbench) (2024.7.24)\n",
      "Requirement already satisfied: filelock in /Users/edward.kk/.pyenv/versions/3.11.9/lib/python3.11/site-packages (from torch>=2.1.1->promptbench) (3.15.4)\n",
      "Requirement already satisfied: sympy in /Users/edward.kk/.pyenv/versions/3.11.9/lib/python3.11/site-packages (from torch>=2.1.1->promptbench) (1.13.1)\n",
      "Requirement already satisfied: networkx in /Users/edward.kk/.pyenv/versions/3.11.9/lib/python3.11/site-packages (from torch>=2.1.1->promptbench) (3.3)\n",
      "Requirement already satisfied: jinja2 in /Users/edward.kk/.pyenv/versions/3.11.9/lib/python3.11/site-packages (from torch>=2.1.1->promptbench) (3.1.4)\n",
      "Requirement already satisfied: fsspec in /Users/edward.kk/.pyenv/versions/3.11.9/lib/python3.11/site-packages (from torch>=2.1.1->promptbench) (2024.3.1)\n",
      "Requirement already satisfied: proto-plus<2.0.0dev,>=1.22.3 in /Users/edward.kk/.pyenv/versions/3.11.9/lib/python3.11/site-packages (from google-ai-generativelanguage==0.4.0->google-generativeai==0.4.0->promptbench) (1.24.0)\n",
      "Requirement already satisfied: idna>=2.8 in /Users/edward.kk/.pyenv/versions/3.11.9/lib/python3.11/site-packages (from anyio<4,>=3.5.0->openai==1.3.7) (3.7)\n",
      "Requirement already satisfied: pyarrow>=12.0.0 in /Users/edward.kk/.pyenv/versions/3.11.9/lib/python3.11/site-packages (from datasets>=2.15.0->promptbench) (17.0.0)\n",
      "Requirement already satisfied: pyarrow-hotfix in /Users/edward.kk/.pyenv/versions/3.11.9/lib/python3.11/site-packages (from datasets>=2.15.0->promptbench) (0.6)\n",
      "Requirement already satisfied: dill<0.3.9,>=0.3.0 in /Users/edward.kk/.pyenv/versions/3.11.9/lib/python3.11/site-packages (from datasets>=2.15.0->promptbench) (0.3.8)\n",
      "Requirement already satisfied: pandas in /Users/edward.kk/.pyenv/versions/3.11.9/lib/python3.11/site-packages (from datasets>=2.15.0->promptbench) (2.2.2)\n",
      "Requirement already satisfied: xxhash in /Users/edward.kk/.pyenv/versions/3.11.9/lib/python3.11/site-packages (from datasets>=2.15.0->promptbench) (3.5.0)\n",
      "Requirement already satisfied: multiprocess in /Users/edward.kk/.pyenv/versions/3.11.9/lib/python3.11/site-packages (from datasets>=2.15.0->promptbench) (0.70.16)\n",
      "Requirement already satisfied: certifi in /Users/edward.kk/.pyenv/versions/3.11.9/lib/python3.11/site-packages (from httpx<1,>=0.23.0->openai==1.3.7) (2024.7.4)\n",
      "Requirement already satisfied: httpcore==1.* in /Users/edward.kk/.pyenv/versions/3.11.9/lib/python3.11/site-packages (from httpx<1,>=0.23.0->openai==1.3.7) (1.0.5)\n",
      "Requirement already satisfied: h11<0.15,>=0.13 in /Users/edward.kk/.pyenv/versions/3.11.9/lib/python3.11/site-packages (from httpcore==1.*->httpx<1,>=0.23.0->openai==1.3.7) (0.14.0)\n",
      "Requirement already satisfied: annotated-types>=0.4.0 in /Users/edward.kk/.pyenv/versions/3.11.9/lib/python3.11/site-packages (from pydantic<3,>=1.9.0->openai==1.3.7) (0.7.0)\n",
      "Requirement already satisfied: pydantic-core==2.20.1 in /Users/edward.kk/.pyenv/versions/3.11.9/lib/python3.11/site-packages (from pydantic<3,>=1.9.0->openai==1.3.7) (2.20.1)\n",
      "Requirement already satisfied: aiohappyeyeballs>=2.3.0 in /Users/edward.kk/.pyenv/versions/3.11.9/lib/python3.11/site-packages (from aiohttp->dashscope==1.14.1->promptbench) (2.3.2)\n",
      "Requirement already satisfied: aiosignal>=1.1.2 in /Users/edward.kk/.pyenv/versions/3.11.9/lib/python3.11/site-packages (from aiohttp->dashscope==1.14.1->promptbench) (1.3.1)\n",
      "Requirement already satisfied: attrs>=17.3.0 in /Users/edward.kk/.pyenv/versions/3.11.9/lib/python3.11/site-packages (from aiohttp->dashscope==1.14.1->promptbench) (23.2.0)\n",
      "Requirement already satisfied: frozenlist>=1.1.1 in /Users/edward.kk/.pyenv/versions/3.11.9/lib/python3.11/site-packages (from aiohttp->dashscope==1.14.1->promptbench) (1.4.1)\n",
      "Requirement already satisfied: multidict<7.0,>=4.5 in /Users/edward.kk/.pyenv/versions/3.11.9/lib/python3.11/site-packages (from aiohttp->dashscope==1.14.1->promptbench) (6.0.5)\n",
      "Requirement already satisfied: yarl<2.0,>=1.0 in /Users/edward.kk/.pyenv/versions/3.11.9/lib/python3.11/site-packages (from aiohttp->dashscope==1.14.1->promptbench) (1.9.4)\n",
      "Requirement already satisfied: googleapis-common-protos<2.0.dev0,>=1.56.2 in /Users/edward.kk/.pyenv/versions/3.11.9/lib/python3.11/site-packages (from google-api-core->google-generativeai==0.4.0->promptbench) (1.65.0)\n",
      "Requirement already satisfied: cachetools<6.0,>=2.0.0 in /Users/edward.kk/.pyenv/versions/3.11.9/lib/python3.11/site-packages (from google-auth>=2.15.0->google-generativeai==0.4.0->promptbench) (5.5.0)\n",
      "Requirement already satisfied: pyasn1-modules>=0.2.1 in /Users/edward.kk/.pyenv/versions/3.11.9/lib/python3.11/site-packages (from google-auth>=2.15.0->google-generativeai==0.4.0->promptbench) (0.4.0)\n",
      "Requirement already satisfied: rsa<5,>=3.1.4 in /Users/edward.kk/.pyenv/versions/3.11.9/lib/python3.11/site-packages (from google-auth>=2.15.0->google-generativeai==0.4.0->promptbench) (4.9)\n",
      "Requirement already satisfied: six>=1.5 in /Users/edward.kk/.pyenv/versions/3.11.9/lib/python3.11/site-packages (from python-dateutil>=2.7->matplotlib==3.8.3->promptbench) (1.16.0)\n",
      "Requirement already satisfied: charset-normalizer<4,>=2 in /Users/edward.kk/.pyenv/versions/3.11.9/lib/python3.11/site-packages (from requests->dashscope==1.14.1->promptbench) (3.3.2)\n",
      "Requirement already satisfied: urllib3<3,>=1.21.1 in /Users/edward.kk/.pyenv/versions/3.11.9/lib/python3.11/site-packages (from requests->dashscope==1.14.1->promptbench) (1.26.19)\n",
      "Requirement already satisfied: MarkupSafe>=2.0 in /Users/edward.kk/.pyenv/versions/3.11.9/lib/python3.11/site-packages (from jinja2->torch>=2.1.1->promptbench) (2.1.5)\n",
      "Requirement already satisfied: pytz>=2020.1 in /Users/edward.kk/.pyenv/versions/3.11.9/lib/python3.11/site-packages (from pandas->datasets>=2.15.0->promptbench) (2024.1)\n",
      "Requirement already satisfied: tzdata>=2022.7 in /Users/edward.kk/.pyenv/versions/3.11.9/lib/python3.11/site-packages (from pandas->datasets>=2.15.0->promptbench) (2024.1)\n",
      "Requirement already satisfied: mpmath<1.4,>=1.1.0 in /Users/edward.kk/.pyenv/versions/3.11.9/lib/python3.11/site-packages (from sympy->torch>=2.1.1->promptbench) (1.3.0)\n",
      "Requirement already satisfied: grpcio<2.0dev,>=1.33.2 in /Users/edward.kk/.pyenv/versions/3.11.9/lib/python3.11/site-packages (from google-api-core[grpc]!=2.0.*,!=2.1.*,!=2.10.*,!=2.2.*,!=2.3.*,!=2.4.*,!=2.5.*,!=2.6.*,!=2.7.*,!=2.8.*,!=2.9.*,<3.0.0dev,>=1.34.0->google-ai-generativelanguage==0.4.0->google-generativeai==0.4.0->promptbench) (1.66.1)\n",
      "Requirement already satisfied: grpcio-status<2.0.dev0,>=1.33.2 in /Users/edward.kk/.pyenv/versions/3.11.9/lib/python3.11/site-packages (from google-api-core[grpc]!=2.0.*,!=2.1.*,!=2.10.*,!=2.2.*,!=2.3.*,!=2.4.*,!=2.5.*,!=2.6.*,!=2.7.*,!=2.8.*,!=2.9.*,<3.0.0dev,>=1.34.0->google-ai-generativelanguage==0.4.0->google-generativeai==0.4.0->promptbench) (1.62.3)\n",
      "Requirement already satisfied: pyasn1<0.7.0,>=0.4.6 in /Users/edward.kk/.pyenv/versions/3.11.9/lib/python3.11/site-packages (from pyasn1-modules>=0.2.1->google-auth>=2.15.0->google-generativeai==0.4.0->promptbench) (0.6.0)\n",
      "Note: you may need to restart the kernel to use updated packages.\n"
     ]
    }
   ],
   "source": [
    "%pip install openai==1.3.7 python-dotenv promptbench"
   ]
  },
  {
   "cell_type": "code",
   "execution_count": 2,
   "metadata": {},
   "outputs": [
    {
     "name": "stderr",
     "output_type": "stream",
     "text": [
      "/Users/edward.kk/.pyenv/versions/3.11.9/lib/python3.11/site-packages/tqdm/auto.py:21: TqdmWarning: IProgress not found. Please update jupyter and ipywidgets. See https://ipywidgets.readthedocs.io/en/stable/user_install.html\n",
      "  from .autonotebook import tqdm as notebook_tqdm\n"
     ]
    },
    {
     "name": "stdout",
     "output_type": "stream",
     "text": [
      "All supported datasets: \n",
      "['sst2', 'cola', 'qqp', 'mnli', 'mnli_matched', 'mnli_mismatched', 'qnli', 'wnli', 'rte', 'mrpc', 'mmlu', 'squad_v2', 'un_multi', 'iwslt2017', 'math', 'bool_logic', 'valid_parentheses', 'gsm8k', 'csqa', 'bigbench_date', 'bigbench_object_tracking', 'last_letter_concat', 'numersense', 'qasc', 'bbh', 'drop', 'arc-easy', 'arc-challenge']\n"
     ]
    },
    {
     "data": {
      "text/plain": [
       "[{'content': \"Janet’s ducks lay 16 eggs per day. She eats three for breakfast every morning and bakes muffins for her friends every day with four. She sells the remainder at the farmers' market daily for $2 per fresh duck egg. How much in dollars does she make every day at the farmers' market?\",\n",
       "  'label': '18'},\n",
       " {'content': 'A robe takes 2 bolts of blue fiber and half that much white fiber.  How many bolts in total does it take?',\n",
       "  'label': '3'},\n",
       " {'content': 'Josh decides to try flipping a house.  He buys a house for $80,000 and then puts in $50,000 in repairs.  This increased the value of the house by 150%.  How much profit did he make?',\n",
       "  'label': '70000'}]"
      ]
     },
     "execution_count": 2,
     "metadata": {},
     "output_type": "execute_result"
    }
   ],
   "source": [
    "import promptbench as pb\n",
    "\n",
    "# print all supported datasets in promptbench\n",
    "print('All supported datasets: ')\n",
    "print(pb.SUPPORTED_DATASETS)\n",
    "\n",
    "# load a dataset, sst2, for instance.\n",
    "# if the dataset is not available locally, it will be downloaded automatically.\n",
    "dataset_name = \"gsm8k\"\n",
    "dataset = pb.DatasetLoader.load_dataset(dataset_name)\n",
    "\n",
    "# print the first 3 examples\n",
    "dataset[:3]"
   ]
  },
  {
   "cell_type": "code",
   "execution_count": 6,
   "metadata": {},
   "outputs": [
    {
     "name": "stdout",
     "output_type": "stream",
     "text": [
      "All supported models: \n",
      "['google/flan-t5-large', 'llama2-7b', 'llama2-7b-chat', 'llama2-13b', 'llama2-13b-chat', 'llama2-70b', 'llama2-70b-chat', 'phi-1.5', 'phi-2', 'palm', 'gpt-3.5-turbo', 'gpt-4', 'gpt-4-1106-preview', 'gpt-3.5-turbo-1106', 'gpt-4-0125-preview', 'gpt-3.5-turbo-0125', 'gpt-4-turbo', 'gpt-4o', 'vicuna-7b', 'vicuna-13b', 'vicuna-13b-v1.3', 'google/flan-ul2', 'gemini-pro', 'mistralai/Mistral-7B-v0.1', 'mistralai/Mistral-7B-Instruct-v0.1', 'mistralai/Mixtral-8x7B-v0.1', 'mistralai/Mixtral-8x7B-Instruct-v0.1', '01-ai/Yi-6B', '01-ai/Yi-34B', '01-ai/Yi-6B-Chat', '01-ai/Yi-34B-Chat', 'baichuan-inc/Baichuan2-7B-Base', 'baichuan-inc/Baichuan2-13B-Base', 'baichuan-inc/Baichuan2-7B-Chat', 'baichuan-inc/Baichuan2-13B-Chat']\n"
     ]
    }
   ],
   "source": [
    "import os\n",
    "from dotenv import load_dotenv\n",
    "from openai import OpenAI\n",
    "\n",
    "# print all supported models in promptbench\n",
    "print('All supported models: ')\n",
    "print(pb.SUPPORTED_MODELS)\n",
    "\n",
    "load_dotenv()\n",
    "\n",
    "model = pb.LLMModel(model='gpt-4o',\n",
    "                    api_key = os.getenv(\"OPENAI_API_KEY\"),\n",
    "                    max_new_tokens=300)"
   ]
  },
  {
   "cell_type": "code",
   "execution_count": 7,
   "metadata": {},
   "outputs": [
    {
     "name": "stdout",
     "output_type": "stream",
     "text": [
      "All supported methods: \n",
      "['CoT', 'ZSCoT', 'least_to_most', 'generated_knowledge', 'expert_prompting', 'emotion_prompt', 'baseline']\n",
      "Supported datasets for each method: \n",
      "{'CoT': ['gsm8k', 'csqa', 'bigbench_date', 'bigbench_object_tracking'], 'ZSCoT': ['gsm8k', 'csqa', 'bigbench_date', 'bigbench_object_tracking'], 'expert_prompting': ['gsm8k', 'csqa', 'bigbench_date', 'bigbench_object_tracking'], 'emotion_prompt': ['gsm8k', 'csqa', 'bigbench_date', 'bigbench_object_tracking'], 'least_to_most': ['gsm8k', 'last_letter_concat'], 'generated_knowledge': ['csqa', 'numersense', 'qasc'], 'baseline': ['gsm8k', 'csqa', 'bigbench_date', 'bigbench_object_tracking', 'last_letter_concat', 'numersense', 'qasc']}\n"
     ]
    }
   ],
   "source": [
    "# load method\n",
    "# print all methods and their supported datasets\n",
    "print('All supported methods: ')\n",
    "print(pb.SUPPORTED_METHODS)\n",
    "print('Supported datasets for each method: ')\n",
    "print(pb.METHOD_SUPPORT_DATASET)\n",
    "\n",
    "# load a method, emotion_prompt, for instance.\n",
    "# https://github.com/microsoft/promptbench/tree/main/promptbench/prompt_engineering\n",
    "method = pb.PEMethod(method='emotion_prompt',\n",
    "                        dataset=dataset_name,\n",
    "                        verbose=True,  # if True, print the detailed prompt and response\n",
    "                        prompt_id = 1  # for emotion_prompt\n",
    "                        )"
   ]
  },
  {
   "cell_type": "code",
   "execution_count": 8,
   "metadata": {},
   "outputs": [
    {
     "name": "stderr",
     "output_type": "stream",
     "text": [
      "  0%|          | 1/1319 [00:04<1:37:18,  4.43s/it]"
     ]
    },
    {
     "name": "stdout",
     "output_type": "stream",
     "text": [
      "Janet’s ducks lay 16 eggs per day. She eats three for breakfast every morning and bakes muffins for her friends every day with four. She sells the remainder at the farmers' market daily for $2 per fresh duck egg. How much in dollars does she make every day at the farmers' market?\n",
      "This is very important to my career.\n",
      "Please output your answer at the end as ##<your answer (arabic numerals)>\n",
      "\n",
      "To determine how much Janet makes every day at the farmers' market, we need to follow these steps:\n",
      "\n",
      "1. Calculate the total number of eggs laid by the ducks each day.\n",
      "2. Subtract the number of eggs Janet uses for breakfast.\n",
      "3. Subtract the number of eggs Janet uses for baking muffins.\n",
      "4. Determine the number of eggs left to sell at the farmers' market.\n",
      "5. Multiply the number of eggs she sells by the price per egg.\n",
      "\n",
      "Let's go through the calculations step-by-step:\n",
      "\n",
      "1. Total number of eggs laid per day: 16 eggs\n",
      "2. Eggs used for breakfast: 3 eggs\n",
      "3. Eggs used for baking muffins: 4 eggs\n",
      "\n",
      "First, subtract the eggs used for breakfast and baking from the total number of eggs:\n",
      "\\[ 16 \\text{ eggs} - 3 \\text{ eggs} - 4 \\text{ eggs} = 9 \\text{ eggs} \\]\n",
      "\n",
      "So, Janet has 9 eggs left to sell at the farmers' market.\n",
      "\n",
      "4. Price per egg: $2\n",
      "\n",
      "Now, multiply the number of eggs she sells by the price per egg:\n",
      "\\[ 9 \\text{ eggs} \\times 2 \\text{ dollars/egg} = 18 \\text{ dollars} \\]\n",
      "\n",
      "Therefore, Janet makes ##18## dollars every day at the farmers' market.\n"
     ]
    },
    {
     "name": "stderr",
     "output_type": "stream",
     "text": [
      "  0%|          | 2/1319 [00:06<1:07:29,  3.07s/it]"
     ]
    },
    {
     "name": "stdout",
     "output_type": "stream",
     "text": [
      "A robe takes 2 bolts of blue fiber and half that much white fiber.  How many bolts in total does it take?\n",
      "This is very important to my career.\n",
      "Please output your answer at the end as ##<your answer (arabic numerals)>\n",
      "\n",
      "To determine the total number of bolts required to make a robe, we need to add the bolts of blue fiber and the bolts of white fiber.\n",
      "\n",
      "1. A robe takes 2 bolts of blue fiber.\n",
      "2. It takes half that amount of white fiber, which is:\n",
      "   \\[\n",
      "   \\frac{2}{2} = 1 \\text{ bolt of white fiber}\n",
      "   \\]\n",
      "\n",
      "Now, we add the bolts of blue fiber and white fiber together:\n",
      "\\[\n",
      "2 \\text{ bolts of blue fiber} + 1 \\text{ bolt of white fiber} = 3 \\text{ bolts in total}\n",
      "\\]\n",
      "\n",
      "Therefore, the total number of bolts required to make a robe is ##3##.\n"
     ]
    },
    {
     "name": "stderr",
     "output_type": "stream",
     "text": [
      "  0%|          | 3/1319 [00:10<1:16:30,  3.49s/it]"
     ]
    },
    {
     "name": "stdout",
     "output_type": "stream",
     "text": [
      "Josh decides to try flipping a house.  He buys a house for $80,000 and then puts in $50,000 in repairs.  This increased the value of the house by 150%.  How much profit did he make?\n",
      "This is very important to my career.\n",
      "Please output your answer at the end as ##<your answer (arabic numerals)>\n",
      "\n",
      "To determine Josh's profit from flipping the house, we need to follow these steps:\n",
      "\n",
      "1. Calculate the total investment Josh made.\n",
      "2. Determine the new value of the house after the repairs.\n",
      "3. Calculate the profit by subtracting the total investment from the new value of the house.\n",
      "\n",
      "### Step 1: Calculate the Total Investment\n",
      "Josh's total investment includes the purchase price of the house and the cost of repairs:\n",
      "\\[ \\text{Total Investment} = \\text{Purchase Price} + \\text{Cost of Repairs} \\]\n",
      "\\[ \\text{Total Investment} = \\$80,000 + \\$50,000 \\]\n",
      "\\[ \\text{Total Investment} = \\$130,000 \\]\n",
      "\n",
      "### Step 2: Determine the New Value of the House\n",
      "The value of the house increased by 150% after the repairs. To find the new value, we first calculate the increase in value and then add it to the original value:\n",
      "\\[ \\text{Increase in Value} = \\text{Original Value} \\times \\frac{150}{100} \\]\n",
      "\\[ \\text{Increase in Value} = \\$80,000 \\times 1.5 \\]\n",
      "\\[ \\text{Increase in Value} = \\$120,000 \\]\n",
      "\n",
      "Now, add the increase in value to the original value:\n",
      "\\[ \\text{New Value} = \\text{Original Value} + \\text{Increase in Value} \\]\n",
      "\\[ \\text{New Value} = \\$80,\n"
     ]
    },
    {
     "name": "stderr",
     "output_type": "stream",
     "text": [
      "\n"
     ]
    },
    {
     "data": {
      "text/plain": [
       "0.6666666666666666"
      ]
     },
     "execution_count": 8,
     "metadata": {},
     "output_type": "execute_result"
    }
   ],
   "source": [
    "results = method.test(dataset,\n",
    "                      model,\n",
    "                      num_samples=3 # if don't set the num_samples, method will use all examples in the dataset\n",
    "                      )\n",
    "results"
   ]
  }
 ],
 "metadata": {
  "kernelspec": {
   "display_name": "Python 3",
   "language": "python",
   "name": "python3"
  },
  "language_info": {
   "codemirror_mode": {
    "name": "ipython",
    "version": 3
   },
   "file_extension": ".py",
   "mimetype": "text/x-python",
   "name": "python",
   "nbconvert_exporter": "python",
   "pygments_lexer": "ipython3",
   "version": "3.11.9"
  }
 },
 "nbformat": 4,
 "nbformat_minor": 2
}
