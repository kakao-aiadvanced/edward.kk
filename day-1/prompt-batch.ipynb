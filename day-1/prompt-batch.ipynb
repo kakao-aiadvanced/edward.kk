{
 "cells": [
  {
   "cell_type": "code",
   "execution_count": null,
   "metadata": {},
   "outputs": [],
   "source": [
    "%%capture --no-stderr\n",
    "%pip install openai==1.3.7 python-dotenv promptbench"
   ]
  },
  {
   "cell_type": "code",
   "execution_count": 2,
   "metadata": {},
   "outputs": [
    {
     "name": "stderr",
     "output_type": "stream",
     "text": [
      "/Users/edward.kk/.pyenv/versions/3.11.9/lib/python3.11/site-packages/tqdm/auto.py:21: TqdmWarning: IProgress not found. Please update jupyter and ipywidgets. See https://ipywidgets.readthedocs.io/en/stable/user_install.html\n",
      "  from .autonotebook import tqdm as notebook_tqdm\n"
     ]
    },
    {
     "name": "stdout",
     "output_type": "stream",
     "text": [
      "All supported datasets: \n",
      "['sst2', 'cola', 'qqp', 'mnli', 'mnli_matched', 'mnli_mismatched', 'qnli', 'wnli', 'rte', 'mrpc', 'mmlu', 'squad_v2', 'un_multi', 'iwslt2017', 'math', 'bool_logic', 'valid_parentheses', 'gsm8k', 'csqa', 'bigbench_date', 'bigbench_object_tracking', 'last_letter_concat', 'numersense', 'qasc', 'bbh', 'drop', 'arc-easy', 'arc-challenge']\n"
     ]
    },
    {
     "data": {
      "text/plain": [
       "[{'content': \"Janet’s ducks lay 16 eggs per day. She eats three for breakfast every morning and bakes muffins for her friends every day with four. She sells the remainder at the farmers' market daily for $2 per fresh duck egg. How much in dollars does she make every day at the farmers' market?\",\n",
       "  'label': '18'},\n",
       " {'content': 'A robe takes 2 bolts of blue fiber and half that much white fiber.  How many bolts in total does it take?',\n",
       "  'label': '3'},\n",
       " {'content': 'Josh decides to try flipping a house.  He buys a house for $80,000 and then puts in $50,000 in repairs.  This increased the value of the house by 150%.  How much profit did he make?',\n",
       "  'label': '70000'}]"
      ]
     },
     "execution_count": 2,
     "metadata": {},
     "output_type": "execute_result"
    }
   ],
   "source": [
    "import promptbench as pb\n",
    "\n",
    "# print all supported datasets in promptbench\n",
    "print('All supported datasets: ')\n",
    "print(pb.SUPPORTED_DATASETS)\n",
    "\n",
    "# load a dataset, sst2, for instance.\n",
    "# if the dataset is not available locally, it will be downloaded automatically.\n",
    "dataset_name = \"gsm8k\"\n",
    "dataset = pb.DatasetLoader.load_dataset(dataset_name)\n",
    "\n",
    "# print the first 3 examples\n",
    "dataset[:3]"
   ]
  },
  {
   "cell_type": "code",
   "execution_count": 6,
   "metadata": {},
   "outputs": [
    {
     "name": "stdout",
     "output_type": "stream",
     "text": [
      "All supported models: \n",
      "['google/flan-t5-large', 'llama2-7b', 'llama2-7b-chat', 'llama2-13b', 'llama2-13b-chat', 'llama2-70b', 'llama2-70b-chat', 'phi-1.5', 'phi-2', 'palm', 'gpt-3.5-turbo', 'gpt-4', 'gpt-4-1106-preview', 'gpt-3.5-turbo-1106', 'gpt-4-0125-preview', 'gpt-3.5-turbo-0125', 'gpt-4-turbo', 'gpt-4o', 'vicuna-7b', 'vicuna-13b', 'vicuna-13b-v1.3', 'google/flan-ul2', 'gemini-pro', 'mistralai/Mistral-7B-v0.1', 'mistralai/Mistral-7B-Instruct-v0.1', 'mistralai/Mixtral-8x7B-v0.1', 'mistralai/Mixtral-8x7B-Instruct-v0.1', '01-ai/Yi-6B', '01-ai/Yi-34B', '01-ai/Yi-6B-Chat', '01-ai/Yi-34B-Chat', 'baichuan-inc/Baichuan2-7B-Base', 'baichuan-inc/Baichuan2-13B-Base', 'baichuan-inc/Baichuan2-7B-Chat', 'baichuan-inc/Baichuan2-13B-Chat']\n"
     ]
    }
   ],
   "source": [
    "import os\n",
    "from dotenv import load_dotenv\n",
    "from openai import OpenAI\n",
    "\n",
    "# print all supported models in promptbench\n",
    "print('All supported models: ')\n",
    "print(pb.SUPPORTED_MODELS)\n",
    "\n",
    "load_dotenv()\n",
    "\n",
    "model = pb.LLMModel(model='gpt-4o',\n",
    "                    api_key = os.getenv(\"OPENAI_API_KEY\"),\n",
    "                    max_new_tokens=300)"
   ]
  },
  {
   "cell_type": "code",
   "execution_count": 7,
   "metadata": {},
   "outputs": [
    {
     "name": "stdout",
     "output_type": "stream",
     "text": [
      "All supported methods: \n",
      "['CoT', 'ZSCoT', 'least_to_most', 'generated_knowledge', 'expert_prompting', 'emotion_prompt', 'baseline']\n",
      "Supported datasets for each method: \n",
      "{'CoT': ['gsm8k', 'csqa', 'bigbench_date', 'bigbench_object_tracking'], 'ZSCoT': ['gsm8k', 'csqa', 'bigbench_date', 'bigbench_object_tracking'], 'expert_prompting': ['gsm8k', 'csqa', 'bigbench_date', 'bigbench_object_tracking'], 'emotion_prompt': ['gsm8k', 'csqa', 'bigbench_date', 'bigbench_object_tracking'], 'least_to_most': ['gsm8k', 'last_letter_concat'], 'generated_knowledge': ['csqa', 'numersense', 'qasc'], 'baseline': ['gsm8k', 'csqa', 'bigbench_date', 'bigbench_object_tracking', 'last_letter_concat', 'numersense', 'qasc']}\n"
     ]
    }
   ],
   "source": [
    "# load method\n",
    "# print all methods and their supported datasets\n",
    "print('All supported methods: ')\n",
    "print(pb.SUPPORTED_METHODS)\n",
    "print('Supported datasets for each method: ')\n",
    "print(pb.METHOD_SUPPORT_DATASET)\n",
    "\n",
    "# load a method, emotion_prompt, for instance.\n",
    "# https://github.com/microsoft/promptbench/tree/main/promptbench/prompt_engineering\n",
    "method = pb.PEMethod(method='emotion_prompt',\n",
    "                        dataset=dataset_name,\n",
    "                        verbose=True,  # if True, print the detailed prompt and response\n",
    "                        prompt_id = 1  # for emotion_prompt\n",
    "                        )"
   ]
  },
  {
   "cell_type": "code",
   "execution_count": 8,
   "metadata": {},
   "outputs": [
    {
     "name": "stderr",
     "output_type": "stream",
     "text": [
      "  0%|          | 1/1319 [00:04<1:37:18,  4.43s/it]"
     ]
    },
    {
     "name": "stdout",
     "output_type": "stream",
     "text": [
      "Janet’s ducks lay 16 eggs per day. She eats three for breakfast every morning and bakes muffins for her friends every day with four. She sells the remainder at the farmers' market daily for $2 per fresh duck egg. How much in dollars does she make every day at the farmers' market?\n",
      "This is very important to my career.\n",
      "Please output your answer at the end as ##<your answer (arabic numerals)>\n",
      "\n",
      "To determine how much Janet makes every day at the farmers' market, we need to follow these steps:\n",
      "\n",
      "1. Calculate the total number of eggs laid by the ducks each day.\n",
      "2. Subtract the number of eggs Janet uses for breakfast.\n",
      "3. Subtract the number of eggs Janet uses for baking muffins.\n",
      "4. Determine the number of eggs left to sell at the farmers' market.\n",
      "5. Multiply the number of eggs she sells by the price per egg.\n",
      "\n",
      "Let's go through the calculations step-by-step:\n",
      "\n",
      "1. Total number of eggs laid per day: 16 eggs\n",
      "2. Eggs used for breakfast: 3 eggs\n",
      "3. Eggs used for baking muffins: 4 eggs\n",
      "\n",
      "First, subtract the eggs used for breakfast and baking from the total number of eggs:\n",
      "\\[ 16 \\text{ eggs} - 3 \\text{ eggs} - 4 \\text{ eggs} = 9 \\text{ eggs} \\]\n",
      "\n",
      "So, Janet has 9 eggs left to sell at the farmers' market.\n",
      "\n",
      "4. Price per egg: $2\n",
      "\n",
      "Now, multiply the number of eggs she sells by the price per egg:\n",
      "\\[ 9 \\text{ eggs} \\times 2 \\text{ dollars/egg} = 18 \\text{ dollars} \\]\n",
      "\n",
      "Therefore, Janet makes ##18## dollars every day at the farmers' market.\n"
     ]
    },
    {
     "name": "stderr",
     "output_type": "stream",
     "text": [
      "  0%|          | 2/1319 [00:06<1:07:29,  3.07s/it]"
     ]
    },
    {
     "name": "stdout",
     "output_type": "stream",
     "text": [
      "A robe takes 2 bolts of blue fiber and half that much white fiber.  How many bolts in total does it take?\n",
      "This is very important to my career.\n",
      "Please output your answer at the end as ##<your answer (arabic numerals)>\n",
      "\n",
      "To determine the total number of bolts required to make a robe, we need to add the bolts of blue fiber and the bolts of white fiber.\n",
      "\n",
      "1. A robe takes 2 bolts of blue fiber.\n",
      "2. It takes half that amount of white fiber, which is:\n",
      "   \\[\n",
      "   \\frac{2}{2} = 1 \\text{ bolt of white fiber}\n",
      "   \\]\n",
      "\n",
      "Now, we add the bolts of blue fiber and white fiber together:\n",
      "\\[\n",
      "2 \\text{ bolts of blue fiber} + 1 \\text{ bolt of white fiber} = 3 \\text{ bolts in total}\n",
      "\\]\n",
      "\n",
      "Therefore, the total number of bolts required to make a robe is ##3##.\n"
     ]
    },
    {
     "name": "stderr",
     "output_type": "stream",
     "text": [
      "  0%|          | 3/1319 [00:10<1:16:30,  3.49s/it]"
     ]
    },
    {
     "name": "stdout",
     "output_type": "stream",
     "text": [
      "Josh decides to try flipping a house.  He buys a house for $80,000 and then puts in $50,000 in repairs.  This increased the value of the house by 150%.  How much profit did he make?\n",
      "This is very important to my career.\n",
      "Please output your answer at the end as ##<your answer (arabic numerals)>\n",
      "\n",
      "To determine Josh's profit from flipping the house, we need to follow these steps:\n",
      "\n",
      "1. Calculate the total investment Josh made.\n",
      "2. Determine the new value of the house after the repairs.\n",
      "3. Calculate the profit by subtracting the total investment from the new value of the house.\n",
      "\n",
      "### Step 1: Calculate the Total Investment\n",
      "Josh's total investment includes the purchase price of the house and the cost of repairs:\n",
      "\\[ \\text{Total Investment} = \\text{Purchase Price} + \\text{Cost of Repairs} \\]\n",
      "\\[ \\text{Total Investment} = \\$80,000 + \\$50,000 \\]\n",
      "\\[ \\text{Total Investment} = \\$130,000 \\]\n",
      "\n",
      "### Step 2: Determine the New Value of the House\n",
      "The value of the house increased by 150% after the repairs. To find the new value, we first calculate the increase in value and then add it to the original value:\n",
      "\\[ \\text{Increase in Value} = \\text{Original Value} \\times \\frac{150}{100} \\]\n",
      "\\[ \\text{Increase in Value} = \\$80,000 \\times 1.5 \\]\n",
      "\\[ \\text{Increase in Value} = \\$120,000 \\]\n",
      "\n",
      "Now, add the increase in value to the original value:\n",
      "\\[ \\text{New Value} = \\text{Original Value} + \\text{Increase in Value} \\]\n",
      "\\[ \\text{New Value} = \\$80,\n"
     ]
    },
    {
     "name": "stderr",
     "output_type": "stream",
     "text": [
      "\n"
     ]
    },
    {
     "data": {
      "text/plain": [
       "0.6666666666666666"
      ]
     },
     "execution_count": 8,
     "metadata": {},
     "output_type": "execute_result"
    }
   ],
   "source": [
    "results = method.test(dataset,\n",
    "                      model,\n",
    "                      num_samples=3 # if don't set the num_samples, method will use all examples in the dataset\n",
    "                      )\n",
    "results"
   ]
  }
 ],
 "metadata": {
  "kernelspec": {
   "display_name": "Python 3",
   "language": "python",
   "name": "python3"
  },
  "language_info": {
   "codemirror_mode": {
    "name": "ipython",
    "version": 3
   },
   "file_extension": ".py",
   "mimetype": "text/x-python",
   "name": "python",
   "nbconvert_exporter": "python",
   "pygments_lexer": "ipython3",
   "version": "3.11.9"
  }
 },
 "nbformat": 4,
 "nbformat_minor": 2
}
