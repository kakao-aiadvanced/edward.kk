{
  "cells": [
    {
      "cell_type": "markdown",
      "id": "0216de30-29cf-4464-9cc3-6e9a6d6c3e40",
      "metadata": {
        "id": "0216de30-29cf-4464-9cc3-6e9a6d6c3e40"
      },
      "source": [
        "# RAG agent with Langgraph\n",
        "\n",
        "https://github.com/langchain-ai/langgraph/blob/main/examples/rag/langgraph_rag_agent_llama3_local.ipynb\n",
        "의 코드를 조금 수정한 파일입니다.\n",
        "\n",
        "## RAG structure of current code\n",
        "\n",
        "```mermaid\n",
        "graph TD\n",
        "    A[Question] --> B{Routing}\n",
        "    B -->|related to index| C[Retrieve Documents]\n",
        "    B -->|unrelated to index| D[Web Search]\n",
        "    C --> E[Grade Documents]\n",
        "    E --> F{Any doc irrelevant}\n",
        "    F -->|Yes| D\n",
        "    F -->|No| G[Generate Answer]\n",
        "    G --> H{Hallucinations?}\n",
        "    H -->|Yes| D\n",
        "    H -->|No| I{Answers question?}\n",
        "    I -->|Yes| J[Answer]\n",
        "    I -->|No| D\n",
        "    D --> G\n",
        "```\n"
      ]
    },
    {
      "cell_type": "markdown",
      "id": "vg_pPXDfwSK3",
      "metadata": {
        "id": "vg_pPXDfwSK3"
      },
      "source": [
        "We'll combine ideas from paper RAG papers into a RAG agent:\n",
        "\n",
        "- **Routing:**  Adaptive RAG ([paper](https://arxiv.org/abs/2403.14403)). Route questions to different retrieval approaches\n",
        "- **Fallback:** Corrective RAG ([paper](https://arxiv.org/pdf/2401.15884.pdf)). Fallback to web search if docs are not relevant to query\n",
        "- **Self-correction:** Self-RAG ([paper](https://arxiv.org/abs/2310.11511)). Fix answers w/ hallucinations or don’t address question\n"
      ]
    },
    {
      "cell_type": "markdown",
      "id": "o2QQJ9cVVlCL",
      "metadata": {
        "id": "o2QQJ9cVVlCL"
      },
      "source": [
        "Answer 에는 출처 (vectorstore 에서 검색하는 경우는 source 값, Tavily 로 web search 하는 경우에는 url 값을 표시해주세요."
      ]
    },
    {
      "cell_type": "markdown",
      "id": "91nbSYTowC9u",
      "metadata": {
        "id": "91nbSYTowC9u"
      },
      "source": [
        "# RAG with OpenAI"
      ]
    },
    {
      "cell_type": "code",
      "execution_count": null,
      "id": "7771c6e4",
      "metadata": {
        "id": "7771c6e4"
      },
      "outputs": [],
      "source": [
        "%%capture --no-stderr\n",
        "%pip install langchain_community tiktoken langchainhub chromadb langchain langgraph tavily-python langchain-text-splitters arxiv langchain_openai pymupdf faiss-cpu"
      ]
    },
    {
      "cell_type": "markdown",
      "id": "-iZ5f1qhU-J0",
      "metadata": {
        "id": "-iZ5f1qhU-J0"
      },
      "source": [
        "## 검색 엔진 Tavily 사용 방법"
      ]
    },
    {
      "cell_type": "markdown",
      "id": "60mVcpQLVFxj",
      "metadata": {
        "id": "60mVcpQLVFxj"
      },
      "source": [
        "회원 가입 후 무료 Credit 받기 (up to 1000) API key at: https://tavily.com/"
      ]
    },
    {
      "cell_type": "markdown",
      "id": "52e80407",
      "metadata": {
        "id": "52e80407"
      },
      "source": [
        "Langchain 에도 Tavily loader / tool 이 있는데, 작성 시점에서는 실행 오류가 있어서 tavily python을 직접 사용\n",
        "\n",
        "quickstart\n",
        "- 아래 코드의 실행 결과를 확인해보세요\n",
        "- response_context, response_qna 는 그냥 response 와 어떻게 다른지 확인해보세요.\n",
        "\n",
        "참고: https://github.com/tavily-ai/tavily-python"
      ]
    },
    {
      "cell_type": "code",
      "execution_count": null,
      "id": "5d1bba03",
      "metadata": {
        "id": "5d1bba03"
      },
      "outputs": [],
      "source": [
        "from tavily import TavilyClient\n",
        "tavily = TavilyClient(api_key='api key')\n",
        "\n",
        "response = tavily.search(query=\"Where does Messi play right now?\", max_results=3)\n",
        "context = [{\"url\": obj[\"url\"], \"content\": obj[\"content\"]} for obj in response['results']]\n",
        "\n",
        "# You can easily get search result context based on any max tokens straight into your RAG.\n",
        "# The response is a string of the context within the max_token limit.\n",
        "\n",
        "response_context = tavily.get_search_context(query=\"Where does Messi play right now?\", search_depth=\"advanced\", max_tokens=500)\n",
        "\n",
        "# You can also get a simple answer to a question including relevant sources all with a simple function call:\n",
        "# You can use it for baseline\n",
        "response_qna = tavily.qna_search(query=\"Where does Messi play right now?\")\n"
      ]
    },
    {
      "cell_type": "code",
      "execution_count": null,
      "id": "e397c2e8",
      "metadata": {
        "colab": {
          "base_uri": "https://localhost:8080/"
        },
        "id": "e397c2e8",
        "outputId": "af97df3d-f1e1-45d7-8e89-adcb09fe8567"
      },
      "outputs": [
        {
          "data": {
            "text/plain": [
              "{'query': 'Where does Messi play right now?',\n",
              " 'follow_up_questions': None,\n",
              " 'answer': None,\n",
              " 'images': [],\n",
              " 'results': [{'title': \"Inter Miami schedule: When is Lionel Messi's next MLS game?\",\n",
              "   'url': 'https://www.nbcsports.com/soccer/news/inter-miami-schedule-when-is-lionel-messis-next-mls-game',\n",
              "   'content': \"Messi has now played less than a season's worth of games in an Inter Miami shirt when you add his appearances across all competitions. His numbers are, in true Messi form, stunning to the eye. ... *Wednesday, April 3: 1-2 loss vs Monterrey - Messi did not play Saturday, April 6: 2-2 draw vs Colorado Rapids - 1 goal for Messi, sets up 2nd goal\",\n",
              "   'score': 0.95022655,\n",
              "   'raw_content': None},\n",
              "  {'title': 'Lionel Messi joins Inter Miami: Schedule, MLS tickets to see him play',\n",
              "   'url': 'https://www.usatoday.com/story/sports/mls/2023/06/07/lionel-messi-inter-miami-schedule-tickets/70299298007/',\n",
              "   'content': 'Lionel Messi joins Inter Miami: Full schedule, MLS tickets to see Messi play in US\\nLionel Messi\\xa0is taking his talents to South Beach.\\nMessi,\\xa0the 2022 World Cup champion, announced on Wednesday that he will join Major League Soccer\\'s Inter Miami CF, a pro soccer club owned by David Beckham, after exiting Ligue 1\\'s Paris Saint-Germain following two seasons.\\n Tickets to Inter Miami\\'s game on June 10 range from $40-$55, but the price tag to see Inter Miami play LigaMX\\'s Cruz Azul on July 21 soared to $495 in anticipation of what\\'s expected to be Messi\\'s first home game, TicketSmarter CEO Jeff Goodman told USA TODAY Sports.\\n Each team will play a minimum of two games in the group stage, similar to the World Cup format, with the possibility of more games if the team advances to the knockout rounds.\\n \"\\nAccording to Goodman, nearly 2,000 Inter Miami tickets sold on TicketSmarter the day of Messi\\'s announcement Wednesday, compared to under 50 tickets being sold on the platform over the weekend.\\n If the Barcelona thing didn\\'t work out, I wanted to leave Europe, get out of the spotlight and think more of my family.',\n",
              "   'score': 0.9260366,\n",
              "   'raw_content': None},\n",
              "  {'title': 'Inter Miami 2024 schedule: Which MLS cities will Lionel Messi visit?',\n",
              "   'url': 'https://www.mlssoccer.com/news/messi/inter-miami-2024-schedule-which-mls-cities-will-lionel-messi-visit',\n",
              "   'content': \"LA Galaxy vs. Inter Miami CF\\nSunday, Feb. 25 | 8:30 pm ET\\nDignity Health Sports Park\\nD.C. United vs. Inter Miami CF\\nSaturday, March 16 | 2:00 pm ET\\nAudi Field\\nNew York Red Bulls vs. Inter Miami CF\\nSaturday, March 23 | 2:00 pm ET\\nRed Bull Arena\\nSporting Kansas City vs. Inter Miami CF\\nSaturday, April 13 | 8:30 pm ET\\nChildren's Mercy Park\\nNew England Revolution vs. Inter Miami CF\\nSaturday, April 27 | 7:30 pm ET\\nGillette Stadium\\nCF Montréal vs. Inter Miami CF\\nSaturday, May 11 | 7:30 pm ET\\nStade Saputo\\nOrlando City SC vs. Inter Miami CF\\nWednesday, May 15 | 7:30 pm ET\\nExploria Stadium\\nVancouver Whitecaps FC vs. Inter Miami FC\\nSaturday, May 25 | Time TBA\\nBC Place\\nPhiladelphia Union vs. Inter Miami CF\\nSaturday, June 15 | 7:30 pm ET\\nSubaru Park\\nNashville SC vs. Inter Miami CF\\nSaturday, June 29 | 8:30 pm ET\\nGEODIS Park\\nCharlotte FC vs. Inter Miami CF\\nWednesday, July 3 | 7:30 pm ET\\nBank of America Stadium\\nFC Cincinnati vs. Inter Miami CF\\nSaturday, July 6 | 7:30 pm ET\\nTQL Stadium\\nChicago Fire FC vs. Inter Miami CF\\nSaturday, Aug. 31 | 8:30 pm ET\\nSoldier Field\\nAtlanta United vs. Inter Miami CF\\nWedneday, Sept. 18 | 7:30 pm ET\\nMercedes-Benz Stadium\\nNew York City FC vs. Inter Miami CF\\nSaturday, Sept. 21 | Time TBA\\nYankee Stadium\\nColumbus Crew vs. Inter Miami CF\\nWednesday, Oct. 2 | 7:30 pm ET\\nLower.com Field\\nToronto FC vs. Inter Miami CF\\nSaturday, Oct. 5 | 7:30 pm ET\\nBMO Field\\nSchedule highlights\\nMessi and Miami will visit 14 Eastern Conference teams and three Western Conference teams in league action, beginning with a marquee showdown at the LA Galaxy on MLS is Back Weekend (Feb. 25).\\n Top 10 moments of 2023 with Inter Miami\\nInter Miami 2024 schedule: Which MLS cities will Lionel Messi visit?\\nLionel Messi: Inter Miami 2024 MLS preseason schedule, matches\\nMessi comes full circle: Inter Miami to face Newell's Old Boys in preseason friendly\\nMessi vs. Ronaldo: Inter Miami to face Al Nassr in Riyadh Season Cup\\nLionel Messi: Inter Miami superstar named TIME's Athlete of the Year\\nWATCH: Lionel Messi presents Ballon d’Or trophy to Inter Miami fans\\nWATCH: Lionel Messi's top Inter Miami moments in 2023\\nLa Tribuna: How Messi is transforming 'La Familia' in Miami\\nInter Miami: Analyzing Lionel Messi and Jordi Alba's absence\\nThe Messi Insider: Get the best Messi coverage straight to your inbox. WATCH: Messi Meets America on Apple TV+\\nRelated Stories\\nBecome a Messi Insider: Sign up to receive insider news, early access to Messi promotions and more.\\n Details: https://t.co/mxhbNTdfW4 pic.twitter.com/grFJCCCxmz\\nMessi in 2024\\nAfter joining Inter Miami last July, Messi captivated the North American soccer landscape and brought a global spotlight to MLS.\",\n",
              "   'score': 0.89349544,\n",
              "   'raw_content': None}],\n",
              " 'response_time': 1.17}"
            ]
          },
          "execution_count": 3,
          "metadata": {},
          "output_type": "execute_result"
        }
      ],
      "source": [
        "response"
      ]
    },
    {
      "cell_type": "markdown",
      "id": "O-4j19k81_ei",
      "metadata": {
        "id": "O-4j19k81_ei"
      },
      "source": [
        "# RAG with langgraph"
      ]
    },
    {
      "cell_type": "code",
      "execution_count": null,
      "id": "21e597f9",
      "metadata": {
        "id": "21e597f9"
      },
      "outputs": [],
      "source": [
        "from langchain_openai import ChatOpenAI\n",
        "os.environ['OPENAI_API_KEY'] = 'api key'\n",
        "\n",
        "llm = ChatOpenAI(model=\"gpt-4o-mini\", temperature = 0)"
      ]
    },
    {
      "cell_type": "markdown",
      "id": "5bd42c79",
      "metadata": {
        "id": "5bd42c79"
      },
      "source": [
        "### Tracing (optional)"
      ]
    },
    {
      "cell_type": "code",
      "execution_count": null,
      "id": "333cbcf4",
      "metadata": {
        "id": "333cbcf4"
      },
      "outputs": [],
      "source": [
        "# import os\n",
        "\n",
        "# os.environ[\"LANGCHAIN_TRACING_V2\"] = \"true\"\n",
        "# os.environ[\"LANGCHAIN_ENDPOINT\"] = \"https://api.smith.langchain.com\"\n",
        "# os.environ[\"LANGCHAIN_API_KEY\"] = \"<your-api-key>\""
      ]
    },
    {
      "cell_type": "code",
      "execution_count": null,
      "id": "267c63e1-4c2f-439d-8d95-4c6aa01f41cf",
      "metadata": {
        "id": "267c63e1-4c2f-439d-8d95-4c6aa01f41cf"
      },
      "outputs": [],
      "source": [
        "### Index\n",
        "\n",
        "from langchain_community.document_loaders import WebBaseLoader\n",
        "from langchain_openai import OpenAIEmbeddings\n",
        "from langchain_community.vectorstores import Chroma\n",
        "from langchain_text_splitters import RecursiveCharacterTextSplitter\n",
        "\n",
        "urls = [\n",
        "    \"https://lilianweng.github.io/posts/2023-06-23-agent/\",\n",
        "    \"https://lilianweng.github.io/posts/2023-03-15-prompt-engineering/\",\n",
        "    \"https://lilianweng.github.io/posts/2023-10-25-adv-attack-llm/\",\n",
        "]\n",
        "\n",
        "docs = [WebBaseLoader(url).load() for url in urls]\n",
        "docs_list = [item for sublist in docs for item in sublist]\n",
        "\n",
        "text_splitter = RecursiveCharacterTextSplitter.from_tiktoken_encoder(\n",
        "    chunk_size=250, chunk_overlap=0\n",
        ")\n",
        "doc_splits = text_splitter.split_documents(docs_list)\n",
        "\n",
        "# Add to vectorDB\n",
        "vectorstore = Chroma.from_documents(\n",
        "    documents=doc_splits,\n",
        "    collection_name=\"rag-chroma\",\n",
        "    embedding = OpenAIEmbeddings(model=\"text-embedding-3-small\")\n",
        ")\n",
        "retriever = vectorstore.as_retriever()"
      ]
    },
    {
      "cell_type": "code",
      "execution_count": null,
      "id": "QVTYLTL_Nq0V",
      "metadata": {
        "colab": {
          "base_uri": "https://localhost:8080/"
        },
        "id": "QVTYLTL_Nq0V",
        "outputId": "dab8dd54-39e0-46f0-e5cf-b549373b2a6d"
      },
      "outputs": [
        {
          "name": "stdout",
          "output_type": "stream",
          "text": [
            "{'datasource': 'vectorstore'}\n"
          ]
        }
      ],
      "source": [
        "### Router\n",
        "from langchain_core.output_parsers import JsonOutputParser\n",
        "from langchain_core.prompts import ChatPromptTemplate\n",
        "\n",
        "system = \"\"\"You are an expert at routing a user question to a vectorstore or web search.\n",
        "Use the vectorstore for questions on LLM agents, prompt engineering, and adversarial attacks.\n",
        "You do not need to be stringent with the keywords in the question related to these topics.\n",
        "Otherwise, use web-search. Give a binary choice 'web_search' or 'vectorstore' based on the question.\n",
        "Return the a JSON with a single key 'datasource' and no premable or explanation. Question to route\"\"\"\n",
        "\n",
        "prompt = ChatPromptTemplate.from_messages(\n",
        "    [\n",
        "        (\"system\", system),\n",
        "        (\"human\", \"question: {question}\"),\n",
        "    ]\n",
        ")\n",
        "\n",
        "question_router = prompt | llm | JsonOutputParser()\n",
        "\n",
        "# question = \"llm agent memory\"\n",
        "question = \"What is prompt?\"\n",
        "docs = retriever.get_relevant_documents(question)\n",
        "print(question_router.invoke({\"question\": question}))"
      ]
    },
    {
      "cell_type": "code",
      "execution_count": null,
      "id": "jKWOWp_nEYhP",
      "metadata": {
        "colab": {
          "base_uri": "https://localhost:8080/"
        },
        "id": "jKWOWp_nEYhP",
        "outputId": "2b952d9f-21f1-4e65-d8da-961a3262a8f6"
      },
      "outputs": [
        {
          "data": {
            "text/plain": [
              "{'description': 'Prompt Engineering, also known as In-Context Prompting, refers to methods for how to communicate with LLM to steer its behavior for desired outcomes without updating the model weights. It is an empirical science and the effect of prompt engineering methods can vary a lot among models, thus requiring heavy experimentation and heuristics.\\nThis post only focuses on prompt engineering for autoregressive language models, so nothing with Cloze tests, image generation or multimodality models.',\n",
              " 'language': 'en',\n",
              " 'source': 'https://lilianweng.github.io/posts/2023-03-15-prompt-engineering/',\n",
              " 'title': \"Prompt Engineering | Lil'Log\"}"
            ]
          },
          "execution_count": 137,
          "metadata": {},
          "output_type": "execute_result"
        }
      ],
      "source": [
        "docs[0].metadata"
      ]
    },
    {
      "cell_type": "code",
      "execution_count": null,
      "id": "Fwr1Z-ZCE4Bn",
      "metadata": {
        "colab": {
          "base_uri": "https://localhost:8080/",
          "height": 105
        },
        "id": "Fwr1Z-ZCE4Bn",
        "outputId": "201a30bb-ba2d-44fd-b873-9486de612ca6"
      },
      "outputs": [
        {
          "data": {
            "application/vnd.google.colaboratory.intrinsic+json": {
              "type": "string"
            },
            "text/plain": [
              "'Prompt Engineering, also known as In-Context Prompting, refers to methods for how to communicate with LLM to steer its behavior for desired outcomes without updating the model weights. It is an empirical science and the effect of prompt engineering methods can vary a lot among models, thus requiring heavy experimentation and heuristics.\\nThis post only focuses on prompt engineering for autoregressive language models, so nothing with Cloze tests, image generation or multimodality models. At its core, the goal of prompt engineering is about alignment and model steerability. Check my previous post on controllable text generation.\\n[My personal spicy take] In my opinion, some prompt engineering papers are not worthy 8 pages long, since those tricks can be explained in one or a few sentences and the rest is all about benchmarking. An easy-to-use and shared benchmark infrastructure should be more beneficial to the community. Iterative prompting or external tool use would not be trivial to set up. Also non-trivial to align the whole research community to adopt it.\\nBasic Prompting#'"
            ]
          },
          "execution_count": 138,
          "metadata": {},
          "output_type": "execute_result"
        }
      ],
      "source": [
        "docs[0].page_content"
      ]
    },
    {
      "cell_type": "code",
      "execution_count": null,
      "id": "b008df98-8394-49da-8fb8-aefe2c90d03c",
      "metadata": {
        "colab": {
          "base_uri": "https://localhost:8080/"
        },
        "id": "b008df98-8394-49da-8fb8-aefe2c90d03c",
        "outputId": "75832721-ad6b-4ebf-91d4-6e9a9e5a1e57"
      },
      "outputs": [
        {
          "name": "stdout",
          "output_type": "stream",
          "text": [
            "{'score': 'yes'}\n"
          ]
        }
      ],
      "source": [
        "### Retrieval Grader\n",
        "from langchain_core.output_parsers import JsonOutputParser\n",
        "from langchain_core.prompts import ChatPromptTemplate\n",
        "\n",
        "system = \"\"\"You are a grader assessing relevance\n",
        "    of a retrieved document to a user question. If the document contains keywords related to the user question,\n",
        "    grade it as relevant. It does not need to be a stringent test. The goal is to filter out erroneous retrievals. \\n\n",
        "    Give a binary score 'yes' or 'no' score to indicate whether the document is relevant to the question. \\n\n",
        "    Provide the binary score as a JSON with a single key 'score' and no premable or explanation.\n",
        "    \"\"\"\n",
        "\n",
        "prompt = ChatPromptTemplate.from_messages(\n",
        "    [\n",
        "        (\"system\", system),\n",
        "        (\"human\", \"question: {question}\\n\\n document: {document} \"),\n",
        "    ]\n",
        ")\n",
        "\n",
        "retrieval_grader = prompt | llm | JsonOutputParser()\n",
        "question = \"What is prompt?\"\n",
        "docs = retriever.invoke(question)\n",
        "doc_txt = docs[0].page_content\n",
        "print(retrieval_grader.invoke({\"question\": question, \"document\": doc_txt}))"
      ]
    },
    {
      "cell_type": "code",
      "execution_count": null,
      "id": "9OzJbkcvZ2J-",
      "metadata": {
        "colab": {
          "base_uri": "https://localhost:8080/",
          "height": 105
        },
        "id": "9OzJbkcvZ2J-",
        "outputId": "741185a2-5c8a-46b3-a5ef-cbec60189463"
      },
      "outputs": [
        {
          "data": {
            "application/vnd.google.colaboratory.intrinsic+json": {
              "type": "string"
            },
            "text/plain": [
              "'Prompt Engineering, also known as In-Context Prompting, refers to methods for how to communicate with LLM to steer its behavior for desired outcomes without updating the model weights. It is an empirical science and the effect of prompt engineering methods can vary a lot among models, thus requiring heavy experimentation and heuristics.\\nThis post only focuses on prompt engineering for autoregressive language models, so nothing with Cloze tests, image generation or multimodality models. At its core, the goal of prompt engineering is about alignment and model steerability. Check my previous post on controllable text generation.\\n[My personal spicy take] In my opinion, some prompt engineering papers are not worthy 8 pages long, since those tricks can be explained in one or a few sentences and the rest is all about benchmarking. An easy-to-use and shared benchmark infrastructure should be more beneficial to the community. Iterative prompting or external tool use would not be trivial to set up. Also non-trivial to align the whole research community to adopt it.\\nBasic Prompting#'"
            ]
          },
          "execution_count": 140,
          "metadata": {},
          "output_type": "execute_result"
        }
      ],
      "source": [
        "doc_txt"
      ]
    },
    {
      "cell_type": "code",
      "execution_count": null,
      "id": "1d531a81-6d4d-405e-975a-01ef1c9679fa",
      "metadata": {
        "colab": {
          "base_uri": "https://localhost:8080/"
        },
        "id": "1d531a81-6d4d-405e-975a-01ef1c9679fa",
        "outputId": "f2b95483-4986-4c68-dbb6-43d9aa4cd243"
      },
      "outputs": [
        {
          "name": "stdout",
          "output_type": "stream",
          "text": [
            "A prompt is a sequence of prefix tokens that increase the probability of getting the desired output given an input. It can be treated as trainable parameters and optimized directly on the embedding space via gradient descent. Various methods like AutoPrompt, Prefix-Tuning, P-tuning, and Prompt-Tuning are used for prompt engineering to steer the behavior of language models without updating their weights.\n"
          ]
        }
      ],
      "source": [
        "### Generate\n",
        "\n",
        "from langchain_core.output_parsers import StrOutputParser\n",
        "from langchain_core.prompts import ChatPromptTemplate\n",
        "\n",
        "system = \"\"\"You are an assistant for question-answering tasks.\n",
        "    Use the following pieces of retrieved context to answer the question. If you don't know the answer, just say that you don't know.\n",
        "    Use three sentences maximum and keep the answer concise\"\"\"\n",
        "\n",
        "prompt = ChatPromptTemplate.from_messages(\n",
        "    [\n",
        "        (\"system\", system),\n",
        "        (\"human\", \"question: {question}\\n\\n context: {context} \"),\n",
        "    ]\n",
        ")\n",
        "\n",
        "# Chain\n",
        "rag_chain = prompt | llm | StrOutputParser()\n",
        "\n",
        "# Run\n",
        "question = \"What is prompt?\"\n",
        "docs = retriever.invoke(question)\n",
        "generation = rag_chain.invoke({\"context\": docs, \"question\": question})\n",
        "print(generation)"
      ]
    },
    {
      "cell_type": "code",
      "execution_count": null,
      "id": "0261a9a4-de13-4dd8-b082-95305a3e43ca",
      "metadata": {
        "colab": {
          "base_uri": "https://localhost:8080/"
        },
        "id": "0261a9a4-de13-4dd8-b082-95305a3e43ca",
        "outputId": "764c4470-9330-420f-b339-33f158875df1"
      },
      "outputs": [
        {
          "data": {
            "text/plain": [
              "{'score': 'yes'}"
            ]
          },
          "execution_count": 142,
          "metadata": {},
          "output_type": "execute_result"
        }
      ],
      "source": [
        "### Hallucination Grader\n",
        "\n",
        "system = \"\"\"You are a grader assessing whether\n",
        "    an answer is grounded in / supported by a set of facts. Give a binary 'yes' or 'no' score to indicate\n",
        "    whether the answer is grounded in / supported by a set of facts. Provide the binary score as a JSON with a\n",
        "    single key 'score' and no preamble or explanation.\"\"\"\n",
        "\n",
        "prompt = ChatPromptTemplate.from_messages(\n",
        "    [\n",
        "        (\"system\", system),\n",
        "        (\"human\", \"documents: {documents}\\n\\n answer: {generation} \"),\n",
        "    ]\n",
        ")\n",
        "\n",
        "hallucination_grader = prompt | llm | JsonOutputParser()\n",
        "hallucination_grader.invoke({\"documents\": docs, \"generation\": generation})"
      ]
    },
    {
      "cell_type": "code",
      "execution_count": null,
      "id": "df9f6944-4fee-4971-b3a7-2b81b44ed433",
      "metadata": {
        "colab": {
          "base_uri": "https://localhost:8080/"
        },
        "id": "df9f6944-4fee-4971-b3a7-2b81b44ed433",
        "outputId": "558eea52-d402-4510-9f85-10b4a37142c5"
      },
      "outputs": [
        {
          "data": {
            "text/plain": [
              "{'score': 'yes'}"
            ]
          },
          "execution_count": 143,
          "metadata": {},
          "output_type": "execute_result"
        }
      ],
      "source": [
        "### Answer Grader\n",
        "\n",
        "\n",
        "prompt = ChatPromptTemplate.from_messages(\n",
        "    [\n",
        "        (\"system\", system),\n",
        "        (\"human\", \"{question}\"),\n",
        "    ]\n",
        ")\n",
        "\n",
        "\n",
        "# Prompt\n",
        "system = \"\"\"You are a grader assessing whether an\n",
        "    answer is useful to resolve a question. Give a binary score 'yes' or 'no' to indicate whether the answer is\n",
        "    useful to resolve a question. Provide the binary score as a JSON with a single key 'score' and no preamble or explanation.\"\"\"\n",
        "\n",
        "prompt = ChatPromptTemplate.from_messages(\n",
        "    [\n",
        "        (\"system\", system),\n",
        "        (\"human\", \"question: {question}\\n\\n answer: {generation} \"),\n",
        "    ]\n",
        ")\n",
        "\n",
        "answer_grader = prompt | llm | JsonOutputParser()\n",
        "answer_grader.invoke({\"question\": question, \"generation\": generation})"
      ]
    },
    {
      "cell_type": "markdown",
      "id": "ccd59cdf-a04d-4b2e-b9cc-6a1b1e80a6c6",
      "metadata": {
        "id": "ccd59cdf-a04d-4b2e-b9cc-6a1b1e80a6c6"
      },
      "source": [
        "We'll implement these as a control flow in LangGraph.\n",
        "\n",
        "An extension of langchain aimed at building robust and stateful multi-actor applications with LLMs by modeling steps as edges and nodes in a graph.\n",
        "\n",
        "Exposes high level interfaces for creating common types of agents, as well as a low-level API for composing custom flows.\n",
        "\n",
        "https://python.langchain.com/v0.2/docs/concepts/#langgraph"
      ]
    },
    {
      "cell_type": "code",
      "execution_count": null,
      "id": "07fa3d08-6a86-4705-a28b-e2721070bc5e",
      "metadata": {
        "id": "07fa3d08-6a86-4705-a28b-e2721070bc5e"
      },
      "outputs": [],
      "source": [
        "from pprint import pprint\n",
        "from typing import List\n",
        "\n",
        "from langchain_core.documents import Document\n",
        "from typing_extensions import TypedDict\n",
        "\n",
        "from langgraph.graph import END, StateGraph\n",
        "\n",
        "### State\n",
        "\n",
        "\n",
        "class GraphState(TypedDict):\n",
        "    \"\"\"\n",
        "    Represents the state of our graph.\n",
        "\n",
        "    Attributes:\n",
        "        question: question\n",
        "        generation: LLM generation\n",
        "        web_search: whether to add search\n",
        "        documents: list of documents\n",
        "    \"\"\"\n",
        "\n",
        "    question: str\n",
        "    generation: str\n",
        "    web_search: str\n",
        "    documents: List[str]\n",
        "\n",
        "\n",
        "### Nodes\n",
        "\n",
        "def retrieve(state):\n",
        "    \"\"\"\n",
        "    Retrieve documents from vectorstore\n",
        "\n",
        "    Args:\n",
        "        state (dict): The current graph state\n",
        "\n",
        "    Returns:\n",
        "        state (dict): New key added to state, documents, that contains retrieved documents\n",
        "    \"\"\"\n",
        "    print(\"---RETRIEVE---\")\n",
        "    question = state[\"question\"]\n",
        "\n",
        "    # Retrieval\n",
        "    documents = retriever.invoke(question)\n",
        "    print(question)\n",
        "    print(documents)\n",
        "    return {\"documents\": documents, \"question\": question}\n",
        "\n",
        "\n",
        "def generate(state):\n",
        "    \"\"\"\n",
        "    Generate answer using RAG on retrieved documents\n",
        "\n",
        "    Args:\n",
        "        state (dict): The current graph state\n",
        "\n",
        "    Returns:\n",
        "        state (dict): New key added to state, generation, that contains LLM generation\n",
        "    \"\"\"\n",
        "    print(\"---GENERATE---\")\n",
        "    question = state[\"question\"]\n",
        "    documents = state[\"documents\"]\n",
        "\n",
        "    # RAG generation\n",
        "    generation = rag_chain.invoke({\"context\": documents, \"question\": question})\n",
        "    return {\"documents\": documents, \"question\": question, \"generation\": generation}\n",
        "\n",
        "\n",
        "def grade_documents(state):\n",
        "    \"\"\"\n",
        "    Determines whether the retrieved documents are relevant to the question\n",
        "    If any document is not relevant, we will set a flag to run web search\n",
        "\n",
        "    Args:\n",
        "        state (dict): The current graph state\n",
        "\n",
        "    Returns:\n",
        "        state (dict): Filtered out irrelevant documents and updated web_search state\n",
        "    \"\"\"\n",
        "\n",
        "    print(\"---CHECK DOCUMENT RELEVANCE TO QUESTION---\")\n",
        "    question = state[\"question\"]\n",
        "    documents = state[\"documents\"]\n",
        "\n",
        "    # Score each doc\n",
        "    filtered_docs = []\n",
        "    web_search = \"No\"\n",
        "    for d in documents:\n",
        "        score = retrieval_grader.invoke(\n",
        "            {\"question\": question, \"document\": d.page_content}\n",
        "        )\n",
        "        grade = score[\"score\"]\n",
        "        # Document relevant\n",
        "        if grade.lower() == \"yes\":\n",
        "            print(\"---GRADE: DOCUMENT RELEVANT---\")\n",
        "            filtered_docs.append(d)\n",
        "        # Document not relevant\n",
        "        else:\n",
        "            print(\"---GRADE: DOCUMENT NOT RELEVANT---\")\n",
        "            # We do not include the document in filtered_docs\n",
        "            # We set a flag to indicate that we want to run web search\n",
        "            web_search = \"Yes\"\n",
        "            continue\n",
        "    return {\"documents\": filtered_docs, \"question\": question, \"web_search\": web_search}\n",
        "\n",
        "\n",
        "def web_search(state):\n",
        "    \"\"\"\n",
        "    Web search based based on the question\n",
        "\n",
        "    Args:\n",
        "        state (dict): The current graph state\n",
        "\n",
        "    Returns:\n",
        "        state (dict): Appended web results to documents\n",
        "    \"\"\"\n",
        "\n",
        "    print(\"---WEB SEARCH---\")\n",
        "    question = state[\"question\"]\n",
        "    documents = state[\"documents\"]\n",
        "\n",
        "    # Web search\n",
        "    docs = tavily.search(query=question)['results']\n",
        "#    [{'title': 'Where will Lionel Messi play in 2024? Cities, stadiums Inter Miami ...', 'url': 'https://www.sportingnews.com/us/soccer/news/where-lionel-messi-play-2024-inter-miami-cities-road-schedule/23334c5768cebee9021e71d0', 'content': \"Here is how Inter Miami's road schedule will look for the coming regular season:\\nInter Miami home stadium for 2024 MLS season\\nFor their home matches through the 2024 campaign, Inter Miami will once again play at\\xa0DRV PNK Stadium in Fort Lauderdale, Florida.\\n Cities, stadiums Inter Miami visit on road MLS schedule for new season\\nWith Lionel Messi set to embark on his first full season with Inter Miami, fans across the United States will be clamoring to see when the Argentine superstar will visit their city in 2024.\\n MLS Season Pass is separate from Apple TV+, meaning those with Apple TV+ would still need an MLS Season Pass subscription to access the complete slate of games, while those without Apple TV+ can still sign up for MLS Season Pass without needing a full Apple TV+ subscription.\\n SUBSCRIBE TO MLS SEASON PASS NOW\\nApple TV is the official home of the MLS regular season and playoffs, with every match for every team available to stream around the world with no blackouts. How to watch Inter Miami in 2024 MLS season\\nLast season, Major League Soccer kicked off a 10-year broadcast rights deal with Apple that sees every single match for the next decade streamed exclusively on Apple's streaming platform.\\n\", 'score': 0.98612, 'raw_content': None}, {'title': 'Is Lionel Messi playing today? Status for next Inter Miami game in 2024 ...', 'url': 'https://www.sportingnews.com/us/soccer/news/lionel-messi-playing-today-inter-miami-game-2024/129c2c378fee4d1f0102aa9d', 'content': '* Lionel Messi did not participate. Inter Miami schedule for Leagues Cup. The 2024 Leagues Cup is scheduled to begin on July 26, running for a month while the MLS season pauses play.. The final ...', 'score': 0.98209, 'raw_content': None}, {'title': 'Lionel Messi joins Inter Miami: Schedule, MLS tickets to see him play', 'url': 'https://www.usatoday.com/story/sports/mls/2023/06/07/lionel-messi-inter-miami-schedule-tickets/70299298007/', 'content': 'Lionel Messi joins Inter Miami: Full schedule, MLS tickets to see Messi play in US\\nLionel Messi\\xa0is taking his talents to South Beach.\\nMessi,\\xa0the 2022 World Cup champion, announced on Wednesday that he will join Major League Soccer\\'s Inter Miami CF, a pro soccer club owned by David Beckham, after exiting Ligue 1\\'s Paris Saint-Germain following two seasons.\\n Tickets to Inter Miami\\'s game on June 10 range from $40-$55, but the price tag to see Inter Miami play LigaMX\\'s Cruz Azul on July 21 soared to $495 in anticipation of what\\'s expected to be Messi\\'s first home game, TicketSmarter CEO Jeff Goodman told USA TODAY Sports.\\n Each team will play a minimum of two games in the group stage, similar to the World Cup format, with the possibility of more games if the team advances to the knockout rounds.\\n \"\\nAccording to Goodman, nearly 2,000 Inter Miami tickets sold on TicketSmarter the day of Messi\\'s announcement Wednesday, compared to under 50 tickets being sold on the platform over the weekend.\\n If the Barcelona thing didn\\'t work out, I wanted to leave Europe, get out of the spotlight and think more of my family.', 'score': 0.97895, 'raw_content': None}, {'title': \"Lionel Messi's 2023 Inter Miami schedule: Every match in MLS, Leagues ...\", 'url': 'https://www.sportingnews.com/us/soccer/news/lionel-messi-2023-inter-miami-schedule/d3buao2mhfp7uculkdz3nsc4', 'content': \"MORE:\\xa0Trophies that Lionel Messi can win with Inter Miami in USA\\nLeagues Cup\\nIn his first three matches with Inter Miami, Lionel Messi lifted the club into the Leagues Cup Round of 16 thanks to three straight home wins that he helped orchestrate.\\n Edition\\nLionel Messi's 2023 Inter Miami schedule: Every match in MLS, Leagues Cup and U.S. Open Cup\\nLionel Messi is taking North America by storm after scoring in his first three matches for his new club Inter Miami CF.\\n MORE: Messi's Miami apartment | Messi's wife & family | Messi's net worth\\nLionel Messi, Inter Miami 2023 schedule\\nBelow are the remaining games for Inter Miami that Messi will be a part of. MLS\\nAfter the Leagues Cup is out of the way, Inter Miami will have 12 MLS matchdays left in a bid to reach the MLS Cup playoffs.\\n Inter Miami can still make MLS playoffs\\xa0with Lionel Messi\\nU.S. Open Cup\\nInter Miami reached the semifinal of the competition before Messi and friends joined.\", 'score': 0.97298, 'raw_content': None}, {'title': 'Messi, Argentina to play in Chicago, DC before Copa America: More info', 'url': 'https://www.usatoday.com/story/sports/soccer/2024/05/20/messi-argentina-to-play-in-chicago-dc-before-copa-america-more-info/73770204007/', 'content': \"1:00. World Cup champion Lionel Messi will participate in two Argentina friendlies early next month before Copa América begins June 20. Messi was officially named to Argentina's 29-man roster ...\", 'score': 0.97096, 'raw_content': None}]\n",
        "#\n",
        "#\n",
        "\n",
        "    web_results = \"\\n\".join([d[\"content\"] for d in docs])\n",
        "    web_results = Document(page_content=web_results)\n",
        "    if documents is not None:\n",
        "        documents.append(web_results)\n",
        "    else:\n",
        "        documents = [web_results]\n",
        "    return {\"documents\": documents, \"question\": question}\n",
        "\n",
        "\n",
        "### Edges\n",
        "\n",
        "\n",
        "def route_question(state):\n",
        "    \"\"\"\n",
        "    Route question to web search or RAG.\n",
        "\n",
        "    Args:\n",
        "        state (dict): The current graph state\n",
        "\n",
        "    Returns:\n",
        "        str: Next node to call\n",
        "    \"\"\"\n",
        "\n",
        "    print(\"---ROUTE QUESTION---\")\n",
        "    question = state[\"question\"]\n",
        "    print(question)\n",
        "    source = question_router.invoke({\"question\": question})\n",
        "    print(source)\n",
        "    print(source[\"datasource\"])\n",
        "    if source[\"datasource\"] == \"web_search\":\n",
        "        print(\"---ROUTE QUESTION TO WEB SEARCH---\")\n",
        "        return \"websearch\"\n",
        "    elif source[\"datasource\"] == \"vectorstore\":\n",
        "        print(\"---ROUTE QUESTION TO RAG---\")\n",
        "        return \"vectorstore\"\n",
        "\n",
        "\n",
        "def decide_to_generate(state):\n",
        "    \"\"\"\n",
        "    Determines whether to generate an answer, or add web search\n",
        "\n",
        "    Args:\n",
        "        state (dict): The current graph state\n",
        "\n",
        "    Returns:\n",
        "        str: Binary decision for next node to call\n",
        "    \"\"\"\n",
        "\n",
        "    print(\"---ASSESS GRADED DOCUMENTS---\")\n",
        "    state[\"question\"]\n",
        "    web_search = state[\"web_search\"]\n",
        "    state[\"documents\"]\n",
        "\n",
        "    if web_search == \"Yes\":\n",
        "        # All documents have been filtered check_relevance\n",
        "        # We will re-generate a new query\n",
        "        print(\n",
        "            \"---DECISION: ALL DOCUMENTS ARE NOT RELEVANT TO QUESTION, INCLUDE WEB SEARCH---\"\n",
        "        )\n",
        "        return \"websearch\"\n",
        "    else:\n",
        "        # We have relevant documents, so generate answer\n",
        "        print(\"---DECISION: GENERATE---\")\n",
        "        return \"generate\"\n",
        "\n",
        "\n",
        "### Conditional edge\n",
        "\n",
        "\n",
        "def grade_generation_v_documents_and_question(state):\n",
        "    \"\"\"\n",
        "    Determines whether the generation is grounded in the document and answers question.\n",
        "\n",
        "    Args:\n",
        "        state (dict): The current graph state\n",
        "\n",
        "    Returns:\n",
        "        str: Decision for next node to call\n",
        "    \"\"\"\n",
        "\n",
        "    print(\"---CHECK HALLUCINATIONS---\")\n",
        "    question = state[\"question\"]\n",
        "    documents = state[\"documents\"]\n",
        "    generation = state[\"generation\"]\n",
        "\n",
        "    score = hallucination_grader.invoke(\n",
        "        {\"documents\": documents, \"generation\": generation}\n",
        "    )\n",
        "    grade = score[\"score\"]\n",
        "\n",
        "    # Check hallucination\n",
        "    if grade == \"yes\":\n",
        "        print(\"---DECISION: GENERATION IS GROUNDED IN DOCUMENTS---\")\n",
        "        # Check question-answering\n",
        "        print(\"---GRADE GENERATION vs QUESTION---\")\n",
        "        score = answer_grader.invoke({\"question\": question, \"generation\": generation})\n",
        "        grade = score[\"score\"]\n",
        "        if grade == \"yes\":\n",
        "            print(\"---DECISION: GENERATION ADDRESSES QUESTION---\")\n",
        "            return \"useful\"\n",
        "        else:\n",
        "            print(\"---DECISION: GENERATION DOES NOT ADDRESS QUESTION---\")\n",
        "            return \"not useful\"\n",
        "    else:\n",
        "        pprint(\"---DECISION: GENERATION IS NOT GROUNDED IN DOCUMENTS, RE-TRY---\")\n",
        "        return \"not supported\"\n",
        "\n",
        "\n",
        "workflow = StateGraph(GraphState)\n",
        "\n",
        "# Define the nodes\n",
        "workflow.add_node(\"websearch\", web_search)  # web search\n",
        "workflow.add_node(\"retrieve\", retrieve)  # retrieve\n",
        "workflow.add_node(\"grade_documents\", grade_documents)  # grade documents\n",
        "workflow.add_node(\"generate\", generate)  # generatae"
      ]
    },
    {
      "cell_type": "markdown",
      "id": "73f21594-00d4-48a8-ae2e-4e55a010b540",
      "metadata": {
        "id": "73f21594-00d4-48a8-ae2e-4e55a010b540"
      },
      "source": [
        "### Graph Build"
      ]
    },
    {
      "cell_type": "code",
      "execution_count": null,
      "id": "d9a4b9e4-3ba8-47d6-958c-e5a7112ac6f4",
      "metadata": {
        "id": "d9a4b9e4-3ba8-47d6-958c-e5a7112ac6f4"
      },
      "outputs": [],
      "source": [
        "# Build graph\n",
        "workflow.set_conditional_entry_point(\n",
        "    route_question,\n",
        "    {\n",
        "        \"websearch\": \"websearch\",\n",
        "        \"vectorstore\": \"retrieve\",\n",
        "    },\n",
        ")\n",
        "\n",
        "workflow.add_edge(\"retrieve\", \"grade_documents\")\n",
        "workflow.add_conditional_edges(\n",
        "    \"grade_documents\",\n",
        "    decide_to_generate,\n",
        "    {\n",
        "        \"websearch\": \"websearch\",\n",
        "        \"generate\": \"generate\",\n",
        "    },\n",
        ")\n",
        "workflow.add_edge(\"websearch\", \"generate\")\n",
        "workflow.add_conditional_edges(\n",
        "    \"generate\",\n",
        "    grade_generation_v_documents_and_question,\n",
        "    {\n",
        "        \"not supported\": \"generate\",\n",
        "        \"useful\": END,\n",
        "        \"not useful\": \"websearch\",\n",
        "    },\n",
        ")"
      ]
    },
    {
      "cell_type": "code",
      "execution_count": null,
      "id": "13043b0f-17c7-49d3-9ea7-8f2c0f0c8691",
      "metadata": {
        "colab": {
          "base_uri": "https://localhost:8080/"
        },
        "id": "13043b0f-17c7-49d3-9ea7-8f2c0f0c8691",
        "outputId": "69f6a9da-b226-49ea-be56-f0e1b95cfd92"
      },
      "outputs": [
        {
          "name": "stdout",
          "output_type": "stream",
          "text": [
            "---ROUTE QUESTION---\n",
            "What is prompt?\n",
            "{'datasource': 'vectorstore'}\n",
            "vectorstore\n",
            "---ROUTE QUESTION TO RAG---\n",
            "---RETRIEVE---\n",
            "What is prompt?\n",
            "[Document(metadata={'description': 'Prompt Engineering, also known as In-Context Prompting, refers to methods for how to communicate with LLM to steer its behavior for desired outcomes without updating the model weights. It is an empirical science and the effect of prompt engineering methods can vary a lot among models, thus requiring heavy experimentation and heuristics.\\nThis post only focuses on prompt engineering for autoregressive language models, so nothing with Cloze tests, image generation or multimodality models.', 'language': 'en', 'source': 'https://lilianweng.github.io/posts/2023-03-15-prompt-engineering/', 'title': \"Prompt Engineering | Lil'Log\"}, page_content='Prompt Engineering, also known as In-Context Prompting, refers to methods for how to communicate with LLM to steer its behavior for desired outcomes without updating the model weights. It is an empirical science and the effect of prompt engineering methods can vary a lot among models, thus requiring heavy experimentation and heuristics.\\nThis post only focuses on prompt engineering for autoregressive language models, so nothing with Cloze tests, image generation or multimodality models. At its core, the goal of prompt engineering is about alignment and model steerability. Check my previous post on controllable text generation.\\n[My personal spicy take] In my opinion, some prompt engineering papers are not worthy 8 pages long, since those tricks can be explained in one or a few sentences and the rest is all about benchmarking. An easy-to-use and shared benchmark infrastructure should be more beneficial to the community. Iterative prompting or external tool use would not be trivial to set up. Also non-trivial to align the whole research community to adopt it.\\nBasic Prompting#'), Document(metadata={'description': 'Prompt Engineering, also known as In-Context Prompting, refers to methods for how to communicate with LLM to steer its behavior for desired outcomes without updating the model weights. It is an empirical science and the effect of prompt engineering methods can vary a lot among models, thus requiring heavy experimentation and heuristics.\\nThis post only focuses on prompt engineering for autoregressive language models, so nothing with Cloze tests, image generation or multimodality models.', 'language': 'en', 'source': 'https://lilianweng.github.io/posts/2023-03-15-prompt-engineering/', 'title': \"Prompt Engineering | Lil'Log\"}, page_content=\"Prompt Engineering | Lil'Log\\n\\n\\n\\n\\n\\n\\n\\n\\n\\n\\n\\n\\n\\n\\n\\n\\n\\n\\n\\n\\n\\n\\n\\n\\n\\n\\n\\n\\n\\n\\n\\n\\n\\n\\n\\n\\n\\n\\n\\nLil'Log\\n\\n\\n\\n\\n\\n\\n\\n\\n\\n\\n\\n\\n\\n\\n\\n\\n\\n\\n\\n\\n\\n\\nPosts\\n\\n\\n\\n\\nArchive\\n\\n\\n\\n\\nSearch\\n\\n\\n\\n\\nTags\\n\\n\\n\\n\\nFAQ\\n\\n\\n\\n\\nemojisearch.app\\n\\n\\n\\n\\n\\n\\n\\n\\n\\n      Prompt Engineering\\n    \\nDate: March 15, 2023  |  Estimated Reading Time: 21 min  |  Author: Lilian Weng\\n\\n\\n \\n\\n\\nTable of Contents\\n\\n\\n\\nBasic Prompting\\n\\nZero-Shot\\n\\nFew-shot\\n\\nTips for Example Selection\\n\\nTips for Example Ordering\\n\\n\\n\\nInstruction Prompting\\n\\nSelf-Consistency Sampling\\n\\nChain-of-Thought (CoT)\\n\\nTypes of CoT prompts\\n\\nTips and Extensions\\n\\n\\nAutomatic Prompt Design\\n\\nAugmented Language Models\\n\\nRetrieval\\n\\nProgramming Language\\n\\nExternal APIs\\n\\n\\nCitation\\n\\nUseful Resources\\n\\nReferences\"), Document(metadata={'description': 'Prompt Engineering, also known as In-Context Prompting, refers to methods for how to communicate with LLM to steer its behavior for desired outcomes without updating the model weights. It is an empirical science and the effect of prompt engineering methods can vary a lot among models, thus requiring heavy experimentation and heuristics.\\nThis post only focuses on prompt engineering for autoregressive language models, so nothing with Cloze tests, image generation or multimodality models.', 'language': 'en', 'source': 'https://lilianweng.github.io/posts/2023-03-15-prompt-engineering/', 'title': \"Prompt Engineering | Lil'Log\"}, page_content='Or\\n@article{weng2023prompt,\\n  title   = \"Prompt Engineering\",\\n  author  = \"Weng, Lilian\",\\n  journal = \"lilianweng.github.io\",\\n  year    = \"2023\",\\n  month   = \"Mar\",\\n  url     = \"https://lilianweng.github.io/posts/2023-03-15-prompt-engineering/\"\\n}\\nUseful Resources#\\n\\nOpenAI Cookbook has many in-depth examples for how to utilize LLM efficiently.\\nLangChain, a library for combining language models with other components to build applications.\\nPrompt Engineering Guide repo contains a pretty comprehensive collection of education materials on prompt engineering.\\nlearnprompting.org\\nPromptPerfect\\nSemantic Kernel'), Document(metadata={'description': 'Prompt Engineering, also known as In-Context Prompting, refers to methods for how to communicate with LLM to steer its behavior for desired outcomes without updating the model weights. It is an empirical science and the effect of prompt engineering methods can vary a lot among models, thus requiring heavy experimentation and heuristics.\\nThis post only focuses on prompt engineering for autoregressive language models, so nothing with Cloze tests, image generation or multimodality models.', 'language': 'en', 'source': 'https://lilianweng.github.io/posts/2023-03-15-prompt-engineering/', 'title': \"Prompt Engineering | Lil'Log\"}, page_content='Fig. 2. How Self-Ask works with external search queries.(Image source: Yao et al. 2022).\\nAutomatic Prompt Design#\\nPrompt is a sequence of prefix tokens that increase the probability of getting  desired output given input. Therefore we can treat them as trainable parameters and optimize them directly on the embedding space via gradient descent, such as AutoPrompt (Shin et al., 2020, Prefix-Tuning (Li & Liang (2021)), P-tuning (Liu et al. 2021) and Prompt-Tuning (Lester et al. 2021). This section in my “Controllable Neural Text Generation” post has a good coverage of them. The trend from AutoPrompt to Prompt-Tuning is that the setup gets gradually simplified.\\nAPE (Automatic Prompt Engineer; Zhou et al. 2022) is a method to search over a pool of model-generated instruction candidates and then filters the candidate set according to a chosen score function to ultimately choose the best candidate with highest score.')]\n",
            "'Finished running: retrieve:'\n",
            "---CHECK DOCUMENT RELEVANCE TO QUESTION---\n",
            "---GRADE: DOCUMENT RELEVANT---\n",
            "---GRADE: DOCUMENT RELEVANT---\n",
            "---GRADE: DOCUMENT RELEVANT---\n",
            "---GRADE: DOCUMENT RELEVANT---\n",
            "---ASSESS GRADED DOCUMENTS---\n",
            "---DECISION: GENERATE---\n",
            "'Finished running: grade_documents:'\n",
            "---GENERATE---\n",
            "---CHECK HALLUCINATIONS---\n",
            "---DECISION: GENERATION IS GROUNDED IN DOCUMENTS---\n",
            "---GRADE GENERATION vs QUESTION---\n",
            "---DECISION: GENERATION ADDRESSES QUESTION---\n",
            "'Finished running: generate:'\n",
            "('A prompt is a sequence of prefix tokens that increase the probability of '\n",
            " 'getting the desired output given an input. It can be treated as trainable '\n",
            " 'parameters and optimized directly on the embedding space via gradient '\n",
            " 'descent. Various methods like AutoPrompt, Prefix-Tuning, P-tuning, and '\n",
            " 'Prompt-Tuning are used for prompt engineering to steer the behavior of '\n",
            " 'language models for desired outcomes.')\n"
          ]
        }
      ],
      "source": [
        "# Compile\n",
        "app = workflow.compile()\n",
        "\n",
        "# Test\n",
        "\n",
        "inputs = {\"question\": \"What is prompt?\"}\n",
        "for output in app.stream(inputs):\n",
        "    for key, value in output.items():\n",
        "        pprint(f\"Finished running: {key}:\")\n",
        "pprint(value[\"generation\"])"
      ]
    },
    {
      "cell_type": "code",
      "execution_count": null,
      "id": "e9xn4i0QmkBJ",
      "metadata": {
        "id": "e9xn4i0QmkBJ"
      },
      "outputs": [],
      "source": [
        "# 여러 질문을 수행할거라면 document 등 state초기화 필요\n",
        "document = None"
      ]
    },
    {
      "cell_type": "markdown",
      "id": "d733ab80-7e7b-4b1a-9519-9242de647eda",
      "metadata": {
        "id": "d733ab80-7e7b-4b1a-9519-9242de647eda"
      },
      "source": [
        "참고 LangSmith Trace:\n",
        "\n",
        "https://smith.langchain.com/public/8d449b67-6bc4-4ecf-9153-759cd21df24f/r"
      ]
    },
    {
      "cell_type": "code",
      "execution_count": null,
      "id": "fbfcec3e-a09a-40b4-9c15-fead97bf4e0a",
      "metadata": {
        "colab": {
          "base_uri": "https://localhost:8080/"
        },
        "id": "fbfcec3e-a09a-40b4-9c15-fead97bf4e0a",
        "outputId": "9f8b213d-2779-44fd-a389-f58edeb39ebe"
      },
      "outputs": [
        {
          "name": "stdout",
          "output_type": "stream",
          "text": [
            "---ROUTE QUESTION---\n",
            "Where does Messi play right now?\n",
            "{'datasource': 'web_search'}\n",
            "web_search\n",
            "---ROUTE QUESTION TO WEB SEARCH---\n",
            "---WEB SEARCH---\n",
            "'Finished running: websearch:'\n",
            "---GENERATE---\n",
            "---CHECK HALLUCINATIONS---\n",
            "---DECISION: GENERATION IS GROUNDED IN DOCUMENTS---\n",
            "---GRADE GENERATION vs QUESTION---\n",
            "---DECISION: GENERATION ADDRESSES QUESTION---\n",
            "'Finished running: generate:'\n",
            "(\"Messi currently plays for Major League Soccer's Inter Miami CF, a \"\n",
            " 'professional soccer club owned by David Beckham. He joined Inter Miami after '\n",
            " \"leaving Ligue 1's Paris Saint-Germain following two seasons. Messi is \"\n",
            " 'expected to make his Major League Soccer debut with Inter Miami in Fort '\n",
            " 'Lauderdale against Charlotte.')\n"
          ]
        }
      ],
      "source": [
        "from pprint import pprint\n",
        "\n",
        "# Compile\n",
        "app = workflow.compile()\n",
        "inputs = {\"question\": \"Where does Messi play right now?\"}\n",
        "for output in app.stream(inputs):\n",
        "    for key, value in output.items():\n",
        "        pprint(f\"Finished running: {key}:\")\n",
        "pprint(value[\"generation\"])"
      ]
    },
    {
      "cell_type": "markdown",
      "id": "ygOsE9N37-9b",
      "metadata": {
        "id": "ygOsE9N37-9b"
      },
      "source": [
        "## Streamlit 활용해 GUI 제공"
      ]
    },
    {
      "cell_type": "markdown",
      "id": "PdjzAb-49ufq",
      "metadata": {
        "id": "PdjzAb-49ufq"
      },
      "source": [
        "예시 코드: https://drive.google.com/file/d/1VPQkv43GCN3mlNI9R8xrbdj6ImEhiBCg/view?usp=drive_link"
      ]
    },
    {
      "cell_type": "markdown",
      "id": "RvtlyORdYdIc",
      "metadata": {
        "id": "RvtlyORdYdIc"
      },
      "source": [
        "## Optional) 점차 Langchain 대신 custom code?"
      ]
    },
    {
      "cell_type": "markdown",
      "id": "rpPwYFe9YmWG",
      "metadata": {
        "id": "rpPwYFe9YmWG"
      },
      "source": [
        "https://platform.openai.com/docs/guides/json-mode"
      ]
    },
    {
      "cell_type": "code",
      "execution_count": null,
      "id": "5JCTojECYvWs",
      "metadata": {
        "id": "5JCTojECYvWs"
      },
      "outputs": [],
      "source": [
        "from openai import OpenAI\n",
        "client = OpenAI()\n",
        "\n",
        "response = client.chat.completions.create(\n",
        "  model=\"gpt-4o-mini\",\n",
        "  response_format={ \"type\": \"json_object\" },\n",
        "  messages=[\n",
        "    {\"role\": \"system\", \"content\": \"You are a helpful assistant designed to output JSON.\"},\n",
        "    {\"role\": \"user\", \"content\": \"Who won the world series in 2020?\"}\n",
        "  ]\n",
        ")\n",
        "print(response.choices[0].message.content)"
      ]
    },
    {
      "cell_type": "code",
      "execution_count": null,
      "id": "BlK6VHS-YwMV",
      "metadata": {
        "id": "BlK6VHS-YwMV"
      },
      "outputs": [],
      "source": [
        "llm = ChatOpenAI(\n",
        "    model=\"gpt-4o-mini\",\n",
        "    model_kwargs={\"response_format\": {\"type\": \"json_object\"}},\n",
        ")"
      ]
    },
    {
      "cell_type": "markdown",
      "id": "5YbOl_vAHc5O",
      "metadata": {
        "id": "5YbOl_vAHc5O"
      },
      "source": [
        "## Optional) Agent with Memory (Message History)"
      ]
    },
    {
      "cell_type": "markdown",
      "id": "2d9ERm8OHgXm",
      "metadata": {
        "id": "2d9ERm8OHgXm"
      },
      "source": [
        "\n",
        "https://python.langchain.com/v0.2/docs/how_to/message_history/"
      ]
    },
    {
      "cell_type": "code",
      "execution_count": null,
      "id": "n3NsLKABHfsN",
      "metadata": {
        "colab": {
          "base_uri": "https://localhost:8080/"
        },
        "id": "n3NsLKABHfsN",
        "outputId": "fb9a736d-b3e7-4ac4-f97e-304fbaeb92db"
      },
      "outputs": [
        {
          "data": {
            "text/plain": [
              "AIMessage(content='안녕하세요, 밥! 어떻게 도와드릴까요?', response_metadata={'token_usage': {'completion_tokens': 13, 'prompt_tokens': 52, 'total_tokens': 65}, 'model_name': 'gpt-4o-mini-2024-07-18', 'system_fingerprint': 'fp_0f03d4f0ee', 'finish_reason': 'stop', 'logprobs': None}, id='run-8e63e183-6a4f-4a61-86dc-986f4f9f3eec-0', usage_metadata={'input_tokens': 52, 'output_tokens': 13, 'total_tokens': 65})"
            ]
          },
          "execution_count": 75,
          "metadata": {},
          "output_type": "execute_result"
        }
      ],
      "source": [
        "from langchain_core.runnables import ConfigurableFieldSpec\n",
        "from langchain_core.runnables import RunnableParallel\n",
        "from langchain_community.chat_message_histories import SQLChatMessageHistory\n",
        "from langchain_core.runnables.history import RunnableWithMessageHistory\n",
        "from langchain_core.prompts import ChatPromptTemplate, MessagesPlaceholder\n",
        "\n",
        "prompt = ChatPromptTemplate.from_messages(\n",
        "    [\n",
        "        (\n",
        "            \"system\",\n",
        "            \"You're an assistant who speaks in {language}. Respond in 20 words or fewer\",\n",
        "        ),\n",
        "        MessagesPlaceholder(variable_name=\"history\"),\n",
        "        (\"human\", \"{input}\"),\n",
        "    ]\n",
        ")\n",
        "\n",
        "runnable = prompt | llm\n",
        "\n",
        "def get_session_history(user_id: str, conversation_id: str):\n",
        "    return SQLChatMessageHistory(f\"{user_id}--{conversation_id}\", \"sqlite:///memory.db\")\n",
        "\n",
        "with_message_history = RunnableWithMessageHistory(\n",
        "    runnable,\n",
        "    get_session_history,\n",
        "    input_messages_key=\"input\",\n",
        "    history_messages_key=\"history\",\n",
        "    history_factory_config=[\n",
        "        ConfigurableFieldSpec(\n",
        "            id=\"user_id\",\n",
        "            annotation=str,\n",
        "            name=\"User ID\",\n",
        "            description=\"Unique identifier for the user.\",\n",
        "            default=\"\",\n",
        "            is_shared=True,\n",
        "        ),\n",
        "        ConfigurableFieldSpec(\n",
        "            id=\"conversation_id\",\n",
        "            annotation=str,\n",
        "            name=\"Conversation ID\",\n",
        "            description=\"Unique identifier for the conversation.\",\n",
        "            default=\"\",\n",
        "            is_shared=True,\n",
        "        ),\n",
        "    ],\n",
        ")\n",
        "\n",
        "with_message_history.invoke(\n",
        "    {\"language\": \"korean\", \"input\": \"hi im bob!\"},\n",
        "    config={\"configurable\": {\"user_id\": \"123\", \"conversation_id\": \"1\"}},\n",
        ")"
      ]
    },
    {
      "cell_type": "code",
      "execution_count": null,
      "id": "hlm1cIelKFxx",
      "metadata": {
        "colab": {
          "base_uri": "https://localhost:8080/"
        },
        "id": "hlm1cIelKFxx",
        "outputId": "b6e808bb-2194-4338-8dd9-735e395eb1f1"
      },
      "outputs": [
        {
          "data": {
            "text/plain": [
              "AIMessage(content='당신의 이름은 밥입니다!', response_metadata={'token_usage': {'completion_tokens': 9, 'prompt_tokens': 78, 'total_tokens': 87}, 'model_name': 'gpt-4o-mini-2024-07-18', 'system_fingerprint': 'fp_611b667b19', 'finish_reason': 'stop', 'logprobs': None}, id='run-cd44b3f5-ae15-455c-8276-4f49f1081aa9-0', usage_metadata={'input_tokens': 78, 'output_tokens': 9, 'total_tokens': 87})"
            ]
          },
          "execution_count": 76,
          "metadata": {},
          "output_type": "execute_result"
        }
      ],
      "source": [
        "with_message_history.invoke(\n",
        "    {\"language\": \"korean\", \"input\": \"what's my name?\"},\n",
        "    config={\"configurable\": {\"user_id\": \"123\", \"conversation_id\": \"1\"}},\n",
        ")"
      ]
    },
    {
      "cell_type": "markdown",
      "id": "2d74d784-daf2-469a-883a-697a98b48dbd",
      "metadata": {
        "id": "2d74d784-daf2-469a-883a-697a98b48dbd"
      },
      "source": [
        "참고 LangSmith Trace:\n",
        "\n",
        "https://smith.langchain.com/public/c785f9c0-f519-4a38-ad5a-febb59a2139c/r"
      ]
    },
    {
      "cell_type": "markdown",
      "id": "6WxYGklJLo1Y",
      "metadata": {
        "id": "6WxYGklJLo1Y"
      },
      "source": [
        "# Optional) Structured Output"
      ]
    },
    {
      "cell_type": "markdown",
      "id": "5ZkjOM-aLvOU",
      "metadata": {
        "id": "5ZkjOM-aLvOU"
      },
      "source": [
        "https://python.langchain.com/v0.2/docs/how_to/structured_output/#the-with_structured_output-method|"
      ]
    },
    {
      "cell_type": "code",
      "execution_count": null,
      "id": "N0-SjmIWLun-",
      "metadata": {
        "id": "N0-SjmIWLun-"
      },
      "outputs": [],
      "source": [
        "import os\n",
        "\n",
        "from langchain_openai import ChatOpenAI\n",
        "\n",
        "llm = ChatOpenAI(model=\"gpt-4o-mini\")"
      ]
    },
    {
      "cell_type": "code",
      "execution_count": null,
      "id": "au4wgwndL5il",
      "metadata": {
        "colab": {
          "base_uri": "https://localhost:8080/"
        },
        "id": "au4wgwndL5il",
        "outputId": "a2d83e73-a5fc-4c2d-855e-bad8a375e6df"
      },
      "outputs": [
        {
          "data": {
            "text/plain": [
              "Joke(setup='Why was the cat sitting on the computer?', punchline='Because it wanted to keep an eye on the mouse!', rating=8)"
            ]
          },
          "execution_count": 89,
          "metadata": {},
          "output_type": "execute_result"
        }
      ],
      "source": [
        "from typing import Optional\n",
        "\n",
        "from langchain_core.pydantic_v1 import BaseModel, Field\n",
        "\n",
        "\n",
        "class Joke(BaseModel):\n",
        "    \"\"\"Joke to tell user.\"\"\"\n",
        "\n",
        "    setup: str = Field(description=\"The setup of the joke\")\n",
        "    punchline: str = Field(description=\"The punchline to the joke\")\n",
        "    rating: Optional[int] = Field(description=\"How funny the joke is, from 1 to 10\")\n",
        "\n",
        "\n",
        "structured_llm = llm.with_structured_output(Joke)\n",
        "\n",
        "structured_llm.invoke(\"Tell me a joke about cats\")"
      ]
    },
    {
      "cell_type": "code",
      "execution_count": null,
      "id": "LQiSkkeRL7Ll",
      "metadata": {
        "colab": {
          "base_uri": "https://localhost:8080/"
        },
        "id": "LQiSkkeRL7Ll",
        "outputId": "dd5fe4ad-8225-46b6-b2b7-e3a5a9a5f3ae"
      },
      "outputs": [
        {
          "data": {
            "text/plain": [
              "{'setup': 'Why was the cat sitting on the computer?',\n",
              " 'punchline': 'Because it wanted to keep an eye on the mouse!',\n",
              " 'rating': 7}"
            ]
          },
          "execution_count": 81,
          "metadata": {},
          "output_type": "execute_result"
        }
      ],
      "source": [
        "json_schema = {\n",
        "    \"title\": \"joke\",\n",
        "    \"description\": \"Joke to tell user.\",\n",
        "    \"type\": \"object\",\n",
        "    \"properties\": {\n",
        "        \"setup\": {\n",
        "            \"type\": \"string\",\n",
        "            \"description\": \"The setup of the joke\",\n",
        "        },\n",
        "        \"punchline\": {\n",
        "            \"type\": \"string\",\n",
        "            \"description\": \"The punchline to the joke\",\n",
        "        },\n",
        "        \"rating\": {\n",
        "            \"type\": \"integer\",\n",
        "            \"description\": \"How funny the joke is, from 1 to 10\",\n",
        "        },\n",
        "    },\n",
        "    \"required\": [\"setup\", \"punchline\"],\n",
        "}\n",
        "structured_llm = llm.with_structured_output(json_schema)\n",
        "\n",
        "structured_llm.invoke(\"Tell me a joke about cats\")"
      ]
    }
  ],
  "metadata": {
    "colab": {
      "collapsed_sections": [
        "ygOsE9N37-9b",
        "RvtlyORdYdIc",
        "5YbOl_vAHc5O",
        "6WxYGklJLo1Y"
      ],
      "provenance": []
    },
    "kernelspec": {
      "display_name": "Python 3 (ipykernel)",
      "language": "python",
      "name": "python3"
    },
    "language_info": {
      "codemirror_mode": {
        "name": "ipython",
        "version": 3
      },
      "file_extension": ".py",
      "mimetype": "text/x-python",
      "name": "python",
      "nbconvert_exporter": "python",
      "pygments_lexer": "ipython3",
      "version": "3.9.19"
    }
  },
  "nbformat": 4,
  "nbformat_minor": 5
}
